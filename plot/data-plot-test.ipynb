{
 "cells": [
  {
   "cell_type": "markdown",
   "metadata": {},
   "source": [
    "\n",
    "- des - primary designation of the asteroid or comet (e.g., 443, 2000 SG344)\n",
    "\n",
    "- orbit_id - orbit ID used for the close-approach computation\n",
    "- jd - time of close-approach (JD Ephemeris Time, TDB)\n",
    "- -->**cd - time of close-approach (formatted calendar date/time, TDB)**\n",
    "- dist - nominal approach distance (au)\n",
    "- dist_min - minimum (3-sigma) approach distance (au)\n",
    "- dist_max - maximum (3-sigma) approach distance (au)\n",
    "- v_rel - velocity relative to the approach body at close approach (km/s)\n",
    "- v_inf - velocity relative to a massless body (km/s)\n",
    "- -->**t_sigma_f - 3-sigma uncertainty in the time of close-approach (formatted in days, hours, and minutes; days are not included if zero; example “13:02” is 13 hours 2 minutes; example “2_09:08” is 2 days 9 hours 8 minutes)**\n",
    "- -->**body - name of the close-approach body (e.g., Earth) only output if the body query parameters is set to ALL**\n",
    "- **h - absolute magnitude H (mag)**\n",
    "- **diameter - diameter of the body (km)**\n",
    "- optional - only output if requested with the diameter query parameter\n",
    "null if not known   \n",
    "- diameter_sigma - 1-sigma uncertainty in the diameter of the body (km)\n",
    "    - optional - only output if requested with the diameter query parameter\n",
    "    - null if not known\n",
    "- fullname - formatted full-name/designation of the asteroid or comet\n",
    "    - optional - only output if requested with the fullname query parameter\n",
    "    - formatted with leading spaces for column alignment in monospaced font tables"
   ]
  },
  {
   "cell_type": "code",
   "execution_count": 19,
   "metadata": {},
   "outputs": [],
   "source": [
    "import requests\n",
    "import pandas as pd\n",
    "import matplotlib.pyplot as plt\n",
    "import plotly.graph_objects as go\n",
    "import datetime"
   ]
  },
  {
   "cell_type": "code",
   "execution_count": 20,
   "metadata": {},
   "outputs": [
    {
     "name": "stdout",
     "output_type": "stream",
     "text": [
      "url: https://ssd-api.jpl.nasa.gov/cad.api?h-max=20&date-min=1980-01-01&date-max=2060-01-01&diameter=True\n",
      "number of entries 584\n"
     ]
    }
   ],
   "source": [
    "url = 'https://ssd-api.jpl.nasa.gov/cad.api'\n",
    "params = {#'dist-max': '1',\n",
    "          'h-max': '20',\n",
    "          'date-min': '1980-01-01',\n",
    "          'date-max': '2060-01-01',\n",
    "          'diameter': True}\n",
    "response = requests.get(url, params)\n",
    "print(f'''url: {response.url}\n",
    "number of entries {response.json()['count']}''')\n"
   ]
  },
  {
   "cell_type": "code",
   "execution_count": 21,
   "metadata": {},
   "outputs": [
    {
     "data": {
      "text/html": [
       "<div>\n",
       "<style scoped>\n",
       "    .dataframe tbody tr th:only-of-type {\n",
       "        vertical-align: middle;\n",
       "    }\n",
       "\n",
       "    .dataframe tbody tr th {\n",
       "        vertical-align: top;\n",
       "    }\n",
       "\n",
       "    .dataframe thead th {\n",
       "        text-align: right;\n",
       "    }\n",
       "</style>\n",
       "<table border=\"1\" class=\"dataframe\">\n",
       "  <thead>\n",
       "    <tr style=\"text-align: right;\">\n",
       "      <th></th>\n",
       "      <th>des</th>\n",
       "      <th>orbit_id</th>\n",
       "      <th>jd</th>\n",
       "      <th>cd</th>\n",
       "      <th>dist</th>\n",
       "      <th>dist_min</th>\n",
       "      <th>dist_max</th>\n",
       "      <th>v_rel</th>\n",
       "      <th>v_inf</th>\n",
       "      <th>t_sigma_f</th>\n",
       "      <th>h</th>\n",
       "      <th>diameter</th>\n",
       "      <th>diameter_sigma</th>\n",
       "    </tr>\n",
       "  </thead>\n",
       "  <tbody>\n",
       "    <tr>\n",
       "      <th>0</th>\n",
       "      <td>576763</td>\n",
       "      <td>36</td>\n",
       "      <td>2444428.918901162</td>\n",
       "      <td>1980-Jul-08 10:03</td>\n",
       "      <td>0.0438457303214753</td>\n",
       "      <td>0.0438428310558048</td>\n",
       "      <td>0.0438486296104317</td>\n",
       "      <td>6.84126492355983</td>\n",
       "      <td>6.83237637475617</td>\n",
       "      <td>00:02</td>\n",
       "      <td>19.30</td>\n",
       "      <td>None</td>\n",
       "      <td>None</td>\n",
       "    </tr>\n",
       "  </tbody>\n",
       "</table>\n",
       "</div>"
      ],
      "text/plain": [
       "      des orbit_id                 jd                 cd                dist  \\\n",
       "0  576763       36  2444428.918901162  1980-Jul-08 10:03  0.0438457303214753   \n",
       "\n",
       "             dist_min            dist_max             v_rel             v_inf  \\\n",
       "0  0.0438428310558048  0.0438486296104317  6.84126492355983  6.83237637475617   \n",
       "\n",
       "  t_sigma_f      h diameter diameter_sigma  \n",
       "0     00:02  19.30     None           None  "
      ]
     },
     "execution_count": 21,
     "metadata": {},
     "output_type": "execute_result"
    }
   ],
   "source": [
    "data = response.json()\n",
    "data_cols = data['fields']\n",
    "data_vals = data['data']\n",
    "asteroids = pd.DataFrame(data_vals, columns=data_cols)\n",
    "asteroids.head(1)"
   ]
  },
  {
   "cell_type": "code",
   "execution_count": 22,
   "metadata": {},
   "outputs": [],
   "source": [
    "asteroids['cd'] = pd.to_datetime(asteroids['cd'])\n",
    "asteroids['orbit_id'] = pd.to_numeric(asteroids['orbit_id'])\n",
    "# asteroids['des'] = pd.to_numeric(asteroids['des'])\n",
    "asteroids['jd'] = pd.to_numeric(asteroids['jd'], downcast='float')\n",
    "asteroids['dist'] = pd.to_numeric(asteroids['dist'], downcast='float')\n",
    "asteroids['dist_min'] = pd.to_numeric(asteroids['dist_min'], downcast='float')\n",
    "asteroids['dist_max'] = pd.to_numeric(asteroids['dist_max'], downcast='float')\n",
    "asteroids['v_rel'] = pd.to_numeric(asteroids['v_rel'], downcast='float')\n",
    "asteroids['v_inf'] = pd.to_numeric(asteroids['v_inf'], downcast='float')\n",
    "asteroids['h'] = pd.to_numeric(asteroids['h'], downcast='float')"
   ]
  },
  {
   "cell_type": "code",
   "execution_count": 23,
   "metadata": {},
   "outputs": [],
   "source": [
    "asteroids = asteroids[asteroids['diameter'].notna()]\n",
    "asteroids['diameter'] = pd.to_numeric(asteroids['diameter'])"
   ]
  },
  {
   "cell_type": "code",
   "execution_count": 24,
   "metadata": {},
   "outputs": [
    {
     "data": {
      "text/plain": [
       "des                       object\n",
       "orbit_id                   int64\n",
       "jd                       float64\n",
       "cd                datetime64[ns]\n",
       "dist                     float32\n",
       "dist_min                 float32\n",
       "dist_max                 float32\n",
       "v_rel                    float32\n",
       "v_inf                    float32\n",
       "t_sigma_f                 object\n",
       "h                        float32\n",
       "diameter                 float64\n",
       "diameter_sigma            object\n",
       "dtype: object"
      ]
     },
     "execution_count": 24,
     "metadata": {},
     "output_type": "execute_result"
    }
   ],
   "source": [
    "asteroids.dtypes"
   ]
  },
  {
   "cell_type": "code",
   "execution_count": 25,
   "metadata": {},
   "outputs": [
    {
     "data": {
      "text/plain": [
       "[<matplotlib.lines.Line2D at 0x1337b5550>]"
      ]
     },
     "execution_count": 25,
     "metadata": {},
     "output_type": "execute_result"
    },
    {
     "data": {
      "image/png": "[encoded data removed]",
      "text/plain": [
       "<Figure size 640x480 with 1 Axes>"
      ]
     },
     "metadata": {},
     "output_type": "display_data"
    }
   ],
   "source": [
    "asteroids\n",
    "dist = asteroids['dist']\n",
    "time_cd = asteroids['cd']\n",
    "plt.plot(time_cd, dist, '.')"
   ]
  },
  {
   "cell_type": "code",
   "execution_count": 26,
   "metadata": {},
   "outputs": [
    {
     "data": {
      "application/vnd.plotly.v1+json": {
       "config": {
        "plotlyServerURL": "https://plot.ly"
       },
       "data": [
        {
         "hovertemplate": "dist=%{x}<br>cd=%{y}<br>diameter=%{marker.size}<extra></extra>",
         "legendgroup": "",
         "marker": {
          "color": "#636efa",
          "size": [
           0.562,
           0.971,
           0.462,
           0.578,
           0.33,
           0.3,
           0.5,
           0.7,
           0.46,
           0.184,
           1.317,
           1.5,
           0.6,
           0.346,
           0.437,
           0.896,
           1.196,
           0.9,
           0.432,
           0.296,
           1.4,
           1.4,
           0.34,
           0.531,
           0.7,
           0.4,
           7,
           0.4,
           0.53,
           0.369,
           0.55,
           5.4,
           0.566,
           2.56,
           1.876,
           1.316,
           0.531,
           0.53,
           1.263,
           5.4,
           1.717,
           1.9,
           0.34,
           1,
           1.196,
           1.849,
           0.863,
           0.33,
           1.317,
           0.432,
           0.33,
           0.528,
           0.325,
           0.4,
           0.78,
           0.33,
           5.4,
           0.307,
           0.595,
           0.452,
           0.572,
           0.929,
           0.453,
           2.188,
           0.994,
           0.695,
           0.26,
           0.906,
           1.778,
           1.252,
           5.4,
           0.653,
           0.78,
           0.325,
           0.462,
           0.46,
           0.279,
           1.462,
           0.432,
           0.864,
           1.717,
           0.55,
           0.488,
           0.89,
           4.9,
           0.4,
           0.26,
           0.791,
           1.317,
           1.75,
           0.51,
           0.55,
           1.374,
           0.3,
           0.33,
           0.791,
           1.052,
           1.8,
           0.496,
           0.307,
           1.876,
           0.346,
           0.578,
           0.293,
           0.3,
           0.665,
           0.398,
           0.495,
           0.932,
           0.704,
           0.562,
           0.34,
           2.914,
           0.432,
           0.762,
           1.039,
           0.279,
           1.568,
           1.136,
           0.896,
           0.6,
           1.317,
           0.33,
           0.52,
           0.562,
           0.369,
           3.07,
           1.649,
           0.439,
           0.906,
           0.51,
           0.432,
           0.453,
           0.32,
           1.663,
           0.7,
           0.562,
           0.89,
           0.566,
           1.4,
           1.5,
           0.335,
           1.5,
           0.595,
           1.258,
           0.34,
           0.562,
           2.56,
           1.06,
           0.55,
           1.876,
           0.4,
           0.738,
           1.317,
           1.462,
           1.974,
           0.432,
           0.462,
           2.188,
           0.572,
           0.994,
           0.986,
           4.9,
           0.971,
           0.414,
           0.437,
           0.439,
           0.938
          ],
          "sizemode": "area",
          "sizeref": 0.0175,
          "symbol": "circle"
         },
         "mode": "markers",
         "name": "",
         "orientation": "h",
         "showlegend": false,
         "type": "scatter",
         "x": [
          0.01498345471918583,
          0.04256601259112358,
          0.02481076493859291,
          0.049783673137426376,
          0.02771153673529625,
          0.03144635632634163,
          0.037727247923612595,
          0.03333572670817375,
          0.030531294643878937,
          0.033567581325769424,
          0.016073929145932198,
          0.030465736985206604,
          0.04472719877958298,
          0.04496237263083458,
          0.040465351194143295,
          0.04979272559285164,
          0.02931349165737629,
          0.028345691040158272,
          0.02668304368853569,
          0.02900628000497818,
          0.02693786285817623,
          0.03354533389210701,
          0.032929323613643646,
          0.026453474536538124,
          0.03279205784201622,
          0.0406126044690609,
          0.03348133713006973,
          0.01857367902994156,
          0.03318457677960396,
          0.03132999315857887,
          0.035373907536268234,
          0.024150418117642403,
          0.03595682978630066,
          0.03330472856760025,
          0.03441718965768814,
          0.048942167311906815,
          0.031662214547395706,
          0.03410591930150986,
          0.01914200372993946,
          0.03543234243988991,
          0.01341450959444046,
          0.031073028221726418,
          0.024387095123529434,
          0.01810857653617859,
          0.0384492352604866,
          0.0465422049164772,
          0.047767266631126404,
          0.03825642541050911,
          0.032332390546798706,
          0.012485538609325886,
          0.029023947194218636,
          0.03845934942364693,
          0.04470926150679588,
          0.022840365767478943,
          0.048017553985118866,
          0.012896864674985409,
          0.010357145220041275,
          0.0344146303832531,
          0.031629528850317,
          0.020824210718274117,
          0.04244585707783699,
          0.045767512172460556,
          0.027682308107614517,
          0.04885786026716232,
          0.025178611278533936,
          0.02644437924027443,
          0.01295248419046402,
          0.04343415051698685,
          0.04269014298915863,
          0.03641491010785103,
          0.046332038938999176,
          0.0327397845685482,
          0.031559739261865616,
          0.008363785222172737,
          0.039929281920194626,
          0.034678973257541656,
          0.02990482747554779,
          0.048422399908304214,
          0.0279949139803648,
          0.045547883957624435,
          0.03476744517683983,
          0.033596575260162354,
          0.04268423840403557,
          0.02045423723757267,
          0.04723677784204483,
          0.020234424620866776,
          0.03847140073776245,
          0.018901336938142776,
          0.03463957458734512,
          0.04204849153757095,
          0.028762998059391975,
          0.013478744775056839,
          0.02291063964366913,
          0.038560740649700165,
          0.026298779994249344,
          0.03628149256110191,
          0.013245328329503536,
          0.026903174817562103,
          0.045175448060035706,
          0.016175780445337296,
          0.03511092811822891,
          0.03821785748004913,
          0.023804470896720886,
          0.04698196426033974,
          0.037924252450466156,
          0.048851754516363144,
          0.0486169271171093,
          0.04799848422408104,
          0.001662539318203926,
          0.006211503874510527,
          0.03101665899157524,
          0.0002540911955293268,
          0.04712669923901558,
          0.049565866589546204,
          0.014688721857964993,
          0.041970763355493546,
          0.022763794288039207,
          0.03031225875020027,
          0.0458717979490757,
          0.04744427651166916,
          0.03569823503494263,
          0.01553031150251627,
          0.04059866815805435,
          0.04090325906872749,
          0.03118244558572769,
          0.034472305327653885,
          0.019834015518426895,
          0.04439711943268776,
          0.017604650929570198,
          0.013561874628067017,
          0.021154174581170082,
          0.027361692860722542,
          0.009360685013234615,
          0.03223307058215141,
          0.02920864336192608,
          0.021161966025829315,
          0.011239202693104744,
          0.03185950219631195,
          0.0458163321018219,
          0.025077391415834427,
          0.035291749984025955,
          0.03005603700876236,
          0.04976050183176994,
          0.03232431784272194,
          0.016564058139920235,
          0.04146819934248924,
          0.029082071036100388,
          0.04788171127438545,
          0.025253914296627045,
          0.01893678307533264,
          0.0364246591925621,
          0.020382698625326157,
          0.035138726234436035,
          0.04568692669272423,
          0.046874407678842545,
          0.048487551510334015,
          0.014361872337758541,
          0.029471611604094505,
          0.046590663492679596,
          0.049557194113731384,
          0.024862485006451607,
          0.04730135202407837,
          0.04995778948068619,
          0.04234679788351059,
          0.045665521174669266,
          0.022126896306872368,
          0.04944147542119026,
          0.0453624352812767
         ],
         "xaxis": "x",
         "y": [
          "1980-07-21T02:38:00",
          "1981-02-05T06:23:00",
          "1981-08-11T01:00:00",
          "1981-10-11T07:28:00",
          "1982-01-23T20:17:00",
          "1982-04-13T19:45:00",
          "1982-12-22T02:16:00",
          "1983-08-21T00:46:00",
          "1983-08-30T10:50:00",
          "1983-09-21T02:33:00",
          "1984-05-25T03:33:00",
          "1984-06-19T01:10:00",
          "1984-07-09T00:28:00",
          "1984-07-28T17:21:00",
          "1985-11-02T23:49:00",
          "1985-11-24T21:16:00",
          "1985-11-26T15:20:00",
          "1986-05-29T01:30:00",
          "1987-12-11T21:36:00",
          "1987-12-15T23:27:00",
          "1989-08-25T04:24:00",
          "1990-04-06T09:41:00",
          "1990-04-14T20:44:00",
          "1990-05-17T07:15:00",
          "1990-07-10T12:04:00",
          "1990-08-06T16:04:00",
          "1990-08-08T09:55:00",
          "1990-10-09T23:56:00",
          "1991-06-11T19:17:00",
          "1991-09-19T10:47:00",
          "1992-02-25T09:34:00",
          "1992-12-08T05:36:00",
          "1992-12-19T12:04:00",
          "1994-08-25T10:10:00",
          "1994-11-02T00:38:00",
          "1994-11-08T13:19:00",
          "1995-05-19T01:24:00",
          "1995-06-09T02:16:00",
          "1996-03-17T19:01:00",
          "1996-11-29T22:53:00",
          "1997-04-28T02:12:00",
          "1997-09-01T23:45:00",
          "1998-04-14T19:46:00",
          "1998-08-10T23:36:00",
          "1998-11-25T18:26:00",
          "2000-08-14T08:14:00",
          "2000-09-19T13:20:00",
          "2001-03-29T18:37:00",
          "2001-05-25T23:31:00",
          "2001-12-16T05:40:00",
          "2002-01-22T12:23:00",
          "2002-04-04T18:43:00",
          "2003-06-08T20:12:00",
          "2003-11-12T00:38:00",
          "2003-11-12T23:24:00",
          "2004-06-26T20:00:00",
          "2004-09-29T13:37:00",
          "2006-04-25T02:41:00",
          "2007-09-26T08:02:00",
          "2007-12-24T19:52:00",
          "2008-07-13T09:16:00",
          "2008-08-15T13:00:00",
          "2008-10-02T02:43:00",
          "2009-08-24T13:04:00",
          "2009-10-08T15:47:00",
          "2010-07-22T16:12:00",
          "2010-10-30T04:15:00",
          "2010-12-01T05:18:00",
          "2010-12-09T03:34:00",
          "2012-06-14T23:09:00",
          "2012-12-12T06:40:00",
          "2014-03-18T07:10:00",
          "2014-04-23T17:21:00",
          "2014-06-08T05:57:00",
          "2014-08-12T00:53:00",
          "2014-08-30T03:14:00",
          "2015-03-27T06:20:00",
          "2015-07-25T04:55:00",
          "2015-12-11T13:16:00",
          "2016-09-12T20:55:00",
          "2016-10-31T09:25:00",
          "2017-02-24T10:03:00",
          "2017-03-28T19:42:00",
          "2017-06-01T12:09:00",
          "2017-09-01T12:06:00",
          "2017-09-29T20:01:00",
          "2017-10-31T03:01:00",
          "2018-12-22T01:04:00",
          "2019-05-25T23:05:00",
          "2020-04-29T09:56:00",
          "2020-11-29T05:08:00",
          "2021-03-21T16:03:00",
          "2021-08-21T15:10:00",
          "2021-11-21T19:20:00",
          "2021-12-11T13:51:00",
          "2021-12-17T17:26:00",
          "2022-01-18T21:51:00",
          "2022-05-27T14:26:00",
          "2022-07-19T22:42:00",
          "2023-04-26T03:43:00",
          "2023-11-02T15:49:00",
          "2024-07-28T02:47:00",
          "2024-10-12T01:52:00",
          "2025-05-25T14:28:00",
          "2025-11-19T01:27:00",
          "2027-03-18T19:29:00",
          "2027-10-27T00:27:00",
          "2027-10-29T12:12:00",
          "2028-06-26T05:23:00",
          "2028-10-26T06:44:00",
          "2029-04-04T16:10:00",
          "2029-04-13T21:46:00",
          "2029-07-15T18:05:00",
          "2029-11-26T03:33:00",
          "2030-09-11T16:00:00",
          "2032-12-23T01:16:00",
          "2033-03-21T09:55:00",
          "2033-09-08T14:41:00",
          "2033-10-07T10:46:00",
          "2033-12-21T05:53:00",
          "2036-02-07T06:08:00",
          "2036-05-25T13:43:00",
          "2036-06-11T18:04:00",
          "2036-11-22T22:56:00",
          "2036-12-22T10:21:00",
          "2038-09-19T14:32:00",
          "2038-11-16T13:44:00",
          "2038-12-27T07:34:00",
          "2039-06-28T02:39:00",
          "2040-11-28T13:42:00",
          "2040-11-29T12:49:00",
          "2040-12-20T14:56:00",
          "2041-10-04T19:53:00",
          "2042-04-07T04:33:00",
          "2042-05-03T07:22:00",
          "2045-08-22T01:38:00",
          "2046-04-03T19:52:00",
          "2046-05-30T22:51:00",
          "2046-06-07T03:06:00",
          "2046-08-26T19:47:00",
          "2046-11-13T04:49:00",
          "2047-02-23T23:11:00",
          "2048-05-13T23:58:00",
          "2048-09-25T18:13:00",
          "2050-07-17T08:02:00",
          "2051-04-20T01:59:00",
          "2051-07-23T14:33:00",
          "2051-08-23T03:35:00",
          "2051-10-28T08:38:00",
          "2052-03-22T18:57:00",
          "2052-11-02T11:57:00",
          "2053-11-16T05:46:00",
          "2053-11-26T22:17:00",
          "2054-05-25T21:17:00",
          "2054-07-25T06:45:00",
          "2054-10-09T11:19:00",
          "2054-12-19T07:13:00",
          "2055-08-11T18:26:00",
          "2055-09-10T11:41:00",
          "2056-07-14T09:03:00",
          "2056-10-08T09:39:00",
          "2057-01-16T23:23:00",
          "2057-09-02T00:41:00",
          "2058-02-05T16:42:00",
          "2058-09-11T14:28:00",
          "2058-10-31T23:57:00",
          "2059-01-22T16:41:00",
          "2059-03-23T21:11:00"
         ],
         "yaxis": "y"
        }
       ],
       "layout": {
        "legend": {
         "itemsizing": "constant",
         "tracegroupgap": 0
        },
        "margin": {
         "t": 60
        },
        "template": {
         "data": {
          "bar": [
           {
            "error_x": {
             "color": "#2a3f5f"
            },
            "error_y": {
             "color": "#2a3f5f"
            },
            "marker": {
             "line": {
              "color": "#E5ECF6",
              "width": 0.5
             },
             "pattern": {
              "fillmode": "overlay",
              "size": 10,
              "solidity": 0.2
             }
            },
            "type": "bar"
           }
          ],
          "barpolar": [
           {
            "marker": {
             "line": {
              "color": "#E5ECF6",
              "width": 0.5
             },
             "pattern": {
              "fillmode": "overlay",
              "size": 10,
              "solidity": 0.2
             }
            },
            "type": "barpolar"
           }
          ],
          "carpet": [
           {
            "aaxis": {
             "endlinecolor": "#2a3f5f",
             "gridcolor": "white",
             "linecolor": "white",
             "minorgridcolor": "white",
             "startlinecolor": "#2a3f5f"
            },
            "baxis": {
             "endlinecolor": "#2a3f5f",
             "gridcolor": "white",
             "linecolor": "white",
             "minorgridcolor": "white",
             "startlinecolor": "#2a3f5f"
            },
            "type": "carpet"
           }
          ],
          "choropleth": [
           {
            "colorbar": {
             "outlinewidth": 0,
             "ticks": ""
            },
            "type": "choropleth"
           }
          ],
          "contour": [
           {
            "colorbar": {
             "outlinewidth": 0,
             "ticks": ""
            },
            "colorscale": [
             [
              0,
              "#0d0887"
             ],
             [
              0.1111111111111111,
              "#46039f"
             ],
             [
              0.2222222222222222,
              "#7201a8"
             ],
             [
              0.3333333333333333,
              "#9c179e"
             ],
             [
              0.4444444444444444,
              "#bd3786"
             ],
             [
              0.5555555555555556,
              "#d8576b"
             ],
             [
              0.6666666666666666,
              "#ed7953"
             ],
             [
              0.7777777777777778,
              "#fb9f3a"
             ],
             [
              0.8888888888888888,
              "#fdca26"
             ],
             [
              1,
              "#f0f921"
             ]
            ],
            "type": "contour"
           }
          ],
          "contourcarpet": [
           {
            "colorbar": {
             "outlinewidth": 0,
             "ticks": ""
            },
            "type": "contourcarpet"
           }
          ],
          "heatmap": [
           {
            "colorbar": {
             "outlinewidth": 0,
             "ticks": ""
            },
            "colorscale": [
             [
              0,
              "#0d0887"
             ],
             [
              0.1111111111111111,
              "#46039f"
             ],
             [
              0.2222222222222222,
              "#7201a8"
             ],
             [
              0.3333333333333333,
              "#9c179e"
             ],
             [
              0.4444444444444444,
              "#bd3786"
             ],
             [
              0.5555555555555556,
              "#d8576b"
             ],
             [
              0.6666666666666666,
              "#ed7953"
             ],
             [
              0.7777777777777778,
              "#fb9f3a"
             ],
             [
              0.8888888888888888,
              "#fdca26"
             ],
             [
              1,
              "#f0f921"
             ]
            ],
            "type": "heatmap"
           }
          ],
          "heatmapgl": [
           {
            "colorbar": {
             "outlinewidth": 0,
             "ticks": ""
            },
            "colorscale": [
             [
              0,
              "#0d0887"
             ],
             [
              0.1111111111111111,
              "#46039f"
             ],
             [
              0.2222222222222222,
              "#7201a8"
             ],
             [
              0.3333333333333333,
              "#9c179e"
             ],
             [
              0.4444444444444444,
              "#bd3786"
             ],
             [
              0.5555555555555556,
              "#d8576b"
             ],
             [
              0.6666666666666666,
              "#ed7953"
             ],
             [
              0.7777777777777778,
              "#fb9f3a"
             ],
             [
              0.8888888888888888,
              "#fdca26"
             ],
             [
              1,
              "#f0f921"
             ]
            ],
            "type": "heatmapgl"
           }
          ],
          "histogram": [
           {
            "marker": {
             "pattern": {
              "fillmode": "overlay",
              "size": 10,
              "solidity": 0.2
             }
            },
            "type": "histogram"
           }
          ],
          "histogram2d": [
           {
            "colorbar": {
             "outlinewidth": 0,
             "ticks": ""
            },
            "colorscale": [
             [
              0,
              "#0d0887"
             ],
             [
              0.1111111111111111,
              "#46039f"
             ],
             [
              0.2222222222222222,
              "#7201a8"
             ],
             [
              0.3333333333333333,
              "#9c179e"
             ],
             [
              0.4444444444444444,
              "#bd3786"
             ],
             [
              0.5555555555555556,
              "#d8576b"
             ],
             [
              0.6666666666666666,
              "#ed7953"
             ],
             [
              0.7777777777777778,
              "#fb9f3a"
             ],
             [
              0.8888888888888888,
              "#fdca26"
             ],
             [
              1,
              "#f0f921"
             ]
            ],
            "type": "histogram2d"
           }
          ],
          "histogram2dcontour": [
           {
            "colorbar": {
             "outlinewidth": 0,
             "ticks": ""
            },
            "colorscale": [
             [
              0,
              "#0d0887"
             ],
             [
              0.1111111111111111,
              "#46039f"
             ],
             [
              0.2222222222222222,
              "#7201a8"
             ],
             [
              0.3333333333333333,
              "#9c179e"
             ],
             [
              0.4444444444444444,
              "#bd3786"
             ],
             [
              0.5555555555555556,
              "#d8576b"
             ],
             [
              0.6666666666666666,
              "#ed7953"
             ],
             [
              0.7777777777777778,
              "#fb9f3a"
             ],
             [
              0.8888888888888888,
              "#fdca26"
             ],
             [
              1,
              "#f0f921"
             ]
            ],
            "type": "histogram2dcontour"
           }
          ],
          "mesh3d": [
           {
            "colorbar": {
             "outlinewidth": 0,
             "ticks": ""
            },
            "type": "mesh3d"
           }
          ],
          "parcoords": [
           {
            "line": {
             "colorbar": {
              "outlinewidth": 0,
              "ticks": ""
             }
            },
            "type": "parcoords"
           }
          ],
          "pie": [
           {
            "automargin": true,
            "type": "pie"
           }
          ],
          "scatter": [
           {
            "fillpattern": {
             "fillmode": "overlay",
             "size": 10,
             "solidity": 0.2
            },
            "type": "scatter"
           }
          ],
          "scatter3d": [
           {
            "line": {
             "colorbar": {
              "outlinewidth": 0,
              "ticks": ""
             }
            },
            "marker": {
             "colorbar": {
              "outlinewidth": 0,
              "ticks": ""
             }
            },
            "type": "scatter3d"
           }
          ],
          "scattercarpet": [
           {
            "marker": {
             "colorbar": {
              "outlinewidth": 0,
              "ticks": ""
             }
            },
            "type": "scattercarpet"
           }
          ],
          "scattergeo": [
           {
            "marker": {
             "colorbar": {
              "outlinewidth": 0,
              "ticks": ""
             }
            },
            "type": "scattergeo"
           }
          ],
          "scattergl": [
           {
            "marker": {
             "colorbar": {
              "outlinewidth": 0,
              "ticks": ""
             }
            },
            "type": "scattergl"
           }
          ],
          "scattermapbox": [
           {
            "marker": {
             "colorbar": {
              "outlinewidth": 0,
              "ticks": ""
             }
            },
            "type": "scattermapbox"
           }
          ],
          "scatterpolar": [
           {
            "marker": {
             "colorbar": {
              "outlinewidth": 0,
              "ticks": ""
             }
            },
            "type": "scatterpolar"
           }
          ],
          "scatterpolargl": [
           {
            "marker": {
             "colorbar": {
              "outlinewidth": 0,
              "ticks": ""
             }
            },
            "type": "scatterpolargl"
           }
          ],
          "scatterternary": [
           {
            "marker": {
             "colorbar": {
              "outlinewidth": 0,
              "ticks": ""
             }
            },
            "type": "scatterternary"
           }
          ],
          "surface": [
           {
            "colorbar": {
             "outlinewidth": 0,
             "ticks": ""
            },
            "colorscale": [
             [
              0,
              "#0d0887"
             ],
             [
              0.1111111111111111,
              "#46039f"
             ],
             [
              0.2222222222222222,
              "#7201a8"
             ],
             [
              0.3333333333333333,
              "#9c179e"
             ],
             [
              0.4444444444444444,
              "#bd3786"
             ],
             [
              0.5555555555555556,
              "#d8576b"
             ],
             [
              0.6666666666666666,
              "#ed7953"
             ],
             [
              0.7777777777777778,
              "#fb9f3a"
             ],
             [
              0.8888888888888888,
              "#fdca26"
             ],
             [
              1,
              "#f0f921"
             ]
            ],
            "type": "surface"
           }
          ],
          "table": [
           {
            "cells": {
             "fill": {
              "color": "#EBF0F8"
             },
             "line": {
              "color": "white"
             }
            },
            "header": {
             "fill": {
              "color": "#C8D4E3"
             },
             "line": {
              "color": "white"
             }
            },
            "type": "table"
           }
          ]
         },
         "layout": {
          "annotationdefaults": {
           "arrowcolor": "#2a3f5f",
           "arrowhead": 0,
           "arrowwidth": 1
          },
          "autotypenumbers": "strict",
          "coloraxis": {
           "colorbar": {
            "outlinewidth": 0,
            "ticks": ""
           }
          },
          "colorscale": {
           "diverging": [
            [
             0,
             "#8e0152"
            ],
            [
             0.1,
             "#c51b7d"
            ],
            [
             0.2,
             "#de77ae"
            ],
            [
             0.3,
             "#f1b6da"
            ],
            [
             0.4,
             "#fde0ef"
            ],
            [
             0.5,
             "#f7f7f7"
            ],
            [
             0.6,
             "#e6f5d0"
            ],
            [
             0.7,
             "#b8e186"
            ],
            [
             0.8,
             "#7fbc41"
            ],
            [
             0.9,
             "#4d9221"
            ],
            [
             1,
             "#276419"
            ]
           ],
           "sequential": [
            [
             0,
             "#0d0887"
            ],
            [
             0.1111111111111111,
             "#46039f"
            ],
            [
             0.2222222222222222,
             "#7201a8"
            ],
            [
             0.3333333333333333,
             "#9c179e"
            ],
            [
             0.4444444444444444,
             "#bd3786"
            ],
            [
             0.5555555555555556,
             "#d8576b"
            ],
            [
             0.6666666666666666,
             "#ed7953"
            ],
            [
             0.7777777777777778,
             "#fb9f3a"
            ],
            [
             0.8888888888888888,
             "#fdca26"
            ],
            [
             1,
             "#f0f921"
            ]
           ],
           "sequentialminus": [
            [
             0,
             "#0d0887"
            ],
            [
             0.1111111111111111,
             "#46039f"
            ],
            [
             0.2222222222222222,
             "#7201a8"
            ],
            [
             0.3333333333333333,
             "#9c179e"
            ],
            [
             0.4444444444444444,
             "#bd3786"
            ],
            [
             0.5555555555555556,
             "#d8576b"
            ],
            [
             0.6666666666666666,
             "#ed7953"
            ],
            [
             0.7777777777777778,
             "#fb9f3a"
            ],
            [
             0.8888888888888888,
             "#fdca26"
            ],
            [
             1,
             "#f0f921"
            ]
           ]
          },
          "colorway": [
           "#636efa",
           "#EF553B",
           "#00cc96",
           "#ab63fa",
           "#FFA15A",
           "#19d3f3",
           "#FF6692",
           "#B6E880",
           "#FF97FF",
           "#FECB52"
          ],
          "font": {
           "color": "#2a3f5f"
          },
          "geo": {
           "bgcolor": "white",
           "lakecolor": "white",
           "landcolor": "#E5ECF6",
           "showlakes": true,
           "showland": true,
           "subunitcolor": "white"
          },
          "hoverlabel": {
           "align": "left"
          },
          "hovermode": "closest",
          "mapbox": {
           "style": "light"
          },
          "paper_bgcolor": "white",
          "plot_bgcolor": "#E5ECF6",
          "polar": {
           "angularaxis": {
            "gridcolor": "white",
            "linecolor": "white",
            "ticks": ""
           },
           "bgcolor": "#E5ECF6",
           "radialaxis": {
            "gridcolor": "white",
            "linecolor": "white",
            "ticks": ""
           }
          },
          "scene": {
           "xaxis": {
            "backgroundcolor": "#E5ECF6",
            "gridcolor": "white",
            "gridwidth": 2,
            "linecolor": "white",
            "showbackground": true,
            "ticks": "",
            "zerolinecolor": "white"
           },
           "yaxis": {
            "backgroundcolor": "#E5ECF6",
            "gridcolor": "white",
            "gridwidth": 2,
            "linecolor": "white",
            "showbackground": true,
            "ticks": "",
            "zerolinecolor": "white"
           },
           "zaxis": {
            "backgroundcolor": "#E5ECF6",
            "gridcolor": "white",
            "gridwidth": 2,
            "linecolor": "white",
            "showbackground": true,
            "ticks": "",
            "zerolinecolor": "white"
           }
          },
          "shapedefaults": {
           "line": {
            "color": "#2a3f5f"
           }
          },
          "ternary": {
           "aaxis": {
            "gridcolor": "white",
            "linecolor": "white",
            "ticks": ""
           },
           "baxis": {
            "gridcolor": "white",
            "linecolor": "white",
            "ticks": ""
           },
           "bgcolor": "#E5ECF6",
           "caxis": {
            "gridcolor": "white",
            "linecolor": "white",
            "ticks": ""
           }
          },
          "title": {
           "x": 0.05
          },
          "xaxis": {
           "automargin": true,
           "gridcolor": "white",
           "linecolor": "white",
           "ticks": "",
           "title": {
            "standoff": 15
           },
           "zerolinecolor": "white",
           "zerolinewidth": 2
          },
          "yaxis": {
           "automargin": true,
           "gridcolor": "white",
           "linecolor": "white",
           "ticks": "",
           "title": {
            "standoff": 15
           },
           "zerolinecolor": "white",
           "zerolinewidth": 2
          }
         }
        },
        "xaxis": {
         "anchor": "y",
         "domain": [
          0,
          1
         ],
         "title": {
          "text": "dist"
         }
        },
        "yaxis": {
         "anchor": "x",
         "domain": [
          0,
          1
         ],
         "title": {
          "text": "cd"
         }
        }
       }
      }
     },
     "metadata": {},
     "output_type": "display_data"
    }
   ],
   "source": [
    "import plotly.express as px\n",
    "\n",
    "fig = px.scatter(asteroids, x = 'dist', y = 'cd',\n",
    "                 size='diameter')\n",
    "\n",
    "fig.show()\n",
    "\n"
   ]
  },
  {
   "cell_type": "code",
   "execution_count": 30,
   "metadata": {},
   "outputs": [
    {
     "data": {
      "application/vnd.plotly.v1+json": {
       "config": {
        "plotlyServerURL": "https://plot.ly"
       },
       "data": [
        {
         "hovertext": [
          "Diameter: 0.562 km",
          "Diameter: 0.971 km",
          "Diameter: 0.462 km",
          "Diameter: 0.578 km",
          "Diameter: 0.33 km",
          "Diameter: 0.3 km",
          "Diameter: 0.5 km",
          "Diameter: 0.7 km",
          "Diameter: 0.46 km",
          "Diameter: 0.184 km",
          "Diameter: 1.317 km",
          "Diameter: 1.5 km",
          "Diameter: 0.6 km",
          "Diameter: 0.346 km",
          "Diameter: 0.437 km",
          "Diameter: 0.896 km",
          "Diameter: 1.196 km",
          "Diameter: 0.9 km",
          "Diameter: 0.432 km",
          "Diameter: 0.296 km",
          "Diameter: 1.4 km",
          "Diameter: 1.4 km",
          "Diameter: 0.34 km",
          "Diameter: 0.531 km",
          "Diameter: 0.7 km",
          "Diameter: 0.4 km",
          "Diameter: 7.0 km",
          "Diameter: 0.4 km",
          "Diameter: 0.53 km",
          "Diameter: 0.369 km",
          "Diameter: 0.55 km",
          "Diameter: 5.4 km",
          "Diameter: 0.566 km",
          "Diameter: 2.56 km",
          "Diameter: 1.876 km",
          "Diameter: 1.316 km",
          "Diameter: 0.531 km",
          "Diameter: 0.53 km",
          "Diameter: 1.263 km",
          "Diameter: 5.4 km",
          "Diameter: 1.717 km",
          "Diameter: 1.9 km",
          "Diameter: 0.34 km",
          "Diameter: 1.0 km",
          "Diameter: 1.196 km",
          "Diameter: 1.849 km",
          "Diameter: 0.863 km",
          "Diameter: 0.33 km",
          "Diameter: 1.317 km",
          "Diameter: 0.432 km",
          "Diameter: 0.33 km",
          "Diameter: 0.528 km",
          "Diameter: 0.325 km",
          "Diameter: 0.4 km",
          "Diameter: 0.78 km",
          "Diameter: 0.33 km",
          "Diameter: 5.4 km",
          "Diameter: 0.307 km",
          "Diameter: 0.595 km",
          "Diameter: 0.452 km",
          "Diameter: 0.572 km",
          "Diameter: 0.929 km",
          "Diameter: 0.453 km",
          "Diameter: 2.188 km",
          "Diameter: 0.994 km",
          "Diameter: 0.695 km",
          "Diameter: 0.26 km",
          "Diameter: 0.906 km",
          "Diameter: 1.778 km",
          "Diameter: 1.252 km",
          "Diameter: 5.4 km",
          "Diameter: 0.653 km",
          "Diameter: 0.78 km",
          "Diameter: 0.325 km",
          "Diameter: 0.462 km",
          "Diameter: 0.46 km",
          "Diameter: 0.279 km",
          "Diameter: 1.462 km",
          "Diameter: 0.432 km",
          "Diameter: 0.864 km",
          "Diameter: 1.717 km",
          "Diameter: 0.55 km",
          "Diameter: 0.488 km",
          "Diameter: 0.89 km",
          "Diameter: 4.9 km",
          "Diameter: 0.4 km",
          "Diameter: 0.26 km",
          "Diameter: 0.791 km",
          "Diameter: 1.317 km",
          "Diameter: 1.75 km",
          "Diameter: 0.51 km",
          "Diameter: 0.55 km",
          "Diameter: 1.374 km",
          "Diameter: 0.3 km",
          "Diameter: 0.33 km",
          "Diameter: 0.791 km",
          "Diameter: 1.052 km",
          "Diameter: 1.8 km",
          "Diameter: 0.496 km",
          "Diameter: 0.307 km",
          "Diameter: 1.876 km",
          "Diameter: 0.346 km",
          "Diameter: 0.578 km",
          "Diameter: 0.293 km",
          "Diameter: 0.3 km",
          "Diameter: 0.665 km",
          "Diameter: 0.398 km",
          "Diameter: 0.495 km",
          "Diameter: 0.932 km",
          "Diameter: 0.704 km",
          "Diameter: 0.562 km",
          "Diameter: 0.34 km",
          "Diameter: 2.914 km",
          "Diameter: 0.432 km",
          "Diameter: 0.762 km",
          "Diameter: 1.039 km",
          "Diameter: 0.279 km",
          "Diameter: 1.568 km",
          "Diameter: 1.136 km",
          "Diameter: 0.896 km",
          "Diameter: 0.6 km",
          "Diameter: 1.317 km",
          "Diameter: 0.33 km",
          "Diameter: 0.52 km",
          "Diameter: 0.562 km",
          "Diameter: 0.369 km",
          "Diameter: 3.07 km",
          "Diameter: 1.649 km",
          "Diameter: 0.439 km",
          "Diameter: 0.906 km",
          "Diameter: 0.51 km",
          "Diameter: 0.432 km",
          "Diameter: 0.453 km",
          "Diameter: 0.32 km",
          "Diameter: 1.663 km",
          "Diameter: 0.7 km",
          "Diameter: 0.562 km",
          "Diameter: 0.89 km",
          "Diameter: 0.566 km",
          "Diameter: 1.4 km",
          "Diameter: 1.5 km",
          "Diameter: 0.335 km",
          "Diameter: 1.5 km",
          "Diameter: 0.595 km",
          "Diameter: 1.258 km",
          "Diameter: 0.34 km",
          "Diameter: 0.562 km",
          "Diameter: 2.56 km",
          "Diameter: 1.06 km",
          "Diameter: 0.55 km",
          "Diameter: 1.876 km",
          "Diameter: 0.4 km",
          "Diameter: 0.738 km",
          "Diameter: 1.317 km",
          "Diameter: 1.462 km",
          "Diameter: 1.974 km",
          "Diameter: 0.432 km",
          "Diameter: 0.462 km",
          "Diameter: 2.188 km",
          "Diameter: 0.572 km",
          "Diameter: 0.994 km",
          "Diameter: 0.986 km",
          "Diameter: 4.9 km",
          "Diameter: 0.971 km",
          "Diameter: 0.414 km",
          "Diameter: 0.437 km",
          "Diameter: 0.439 km",
          "Diameter: 0.938 km"
         ],
         "marker": {
          "color": "lightblue",
          "size": [
           1.6860000000000002,
           2.913,
           1.3860000000000001,
           1.734,
           0.99,
           0.8999999999999999,
           1.5,
           2.0999999999999996,
           1.3800000000000001,
           0.552,
           3.9509999999999996,
           4.5,
           1.7999999999999998,
           1.0379999999999998,
           1.311,
           2.688,
           3.588,
           2.7,
           1.296,
           0.8879999999999999,
           4.199999999999999,
           4.199999999999999,
           1.02,
           1.593,
           2.0999999999999996,
           1.2000000000000002,
           21,
           1.2000000000000002,
           1.59,
           1.107,
           1.6500000000000001,
           16.200000000000003,
           1.698,
           7.68,
           5.628,
           3.9480000000000004,
           1.593,
           1.59,
           3.7889999999999997,
           16.200000000000003,
           5.151,
           5.699999999999999,
           1.02,
           3,
           3.588,
           5.547,
           2.589,
           0.99,
           3.9509999999999996,
           1.296,
           0.99,
           1.584,
           0.9750000000000001,
           1.2000000000000002,
           2.34,
           0.99,
           16.200000000000003,
           0.921,
           1.785,
           1.356,
           1.7159999999999997,
           2.787,
           1.359,
           6.564,
           2.982,
           2.085,
           0.78,
           2.718,
           5.334,
           3.7560000000000002,
           16.200000000000003,
           1.959,
           2.34,
           0.9750000000000001,
           1.3860000000000001,
           1.3800000000000001,
           0.8370000000000001,
           4.386,
           1.296,
           2.592,
           5.151,
           1.6500000000000001,
           1.464,
           2.67,
           14.700000000000001,
           1.2000000000000002,
           0.78,
           2.373,
           3.9509999999999996,
           5.25,
           1.53,
           1.6500000000000001,
           4.122,
           0.8999999999999999,
           0.99,
           2.373,
           3.156,
           5.4,
           1.488,
           0.921,
           5.628,
           1.0379999999999998,
           1.734,
           0.879,
           0.8999999999999999,
           1.995,
           1.194,
           1.4849999999999999,
           2.7960000000000003,
           2.112,
           1.6860000000000002,
           1.02,
           8.742,
           1.296,
           2.286,
           3.117,
           0.8370000000000001,
           4.704000000000001,
           3.4079999999999995,
           2.688,
           1.7999999999999998,
           3.9509999999999996,
           0.99,
           1.56,
           1.6860000000000002,
           1.107,
           9.209999999999999,
           4.947,
           1.317,
           2.718,
           1.53,
           1.296,
           1.359,
           0.96,
           4.989,
           2.0999999999999996,
           1.6860000000000002,
           2.67,
           1.698,
           4.199999999999999,
           4.5,
           1.0050000000000001,
           4.5,
           1.785,
           3.774,
           1.02,
           1.6860000000000002,
           7.68,
           3.18,
           1.6500000000000001,
           5.628,
           1.2000000000000002,
           2.214,
           3.9509999999999996,
           4.386,
           5.922,
           1.296,
           1.3860000000000001,
           6.564,
           1.7159999999999997,
           2.982,
           2.958,
           14.700000000000001,
           2.913,
           1.242,
           1.311,
           1.317,
           2.814
          ]
         },
         "mode": "markers",
         "name": "Asteroids",
         "type": "scatter",
         "x": [
          "1980-07-21T02:38:00",
          "1981-02-05T06:23:00",
          "1981-08-11T01:00:00",
          "1981-10-11T07:28:00",
          "1982-01-23T20:17:00",
          "1982-04-13T19:45:00",
          "1982-12-22T02:16:00",
          "1983-08-21T00:46:00",
          "1983-08-30T10:50:00",
          "1983-09-21T02:33:00",
          "1984-05-25T03:33:00",
          "1984-06-19T01:10:00",
          "1984-07-09T00:28:00",
          "1984-07-28T17:21:00",
          "1985-11-02T23:49:00",
          "1985-11-24T21:16:00",
          "1985-11-26T15:20:00",
          "1986-05-29T01:30:00",
          "1987-12-11T21:36:00",
          "1987-12-15T23:27:00",
          "1989-08-25T04:24:00",
          "1990-04-06T09:41:00",
          "1990-04-14T20:44:00",
          "1990-05-17T07:15:00",
          "1990-07-10T12:04:00",
          "1990-08-06T16:04:00",
          "1990-08-08T09:55:00",
          "1990-10-09T23:56:00",
          "1991-06-11T19:17:00",
          "1991-09-19T10:47:00",
          "1992-02-25T09:34:00",
          "1992-12-08T05:36:00",
          "1992-12-19T12:04:00",
          "1994-08-25T10:10:00",
          "1994-11-02T00:38:00",
          "1994-11-08T13:19:00",
          "1995-05-19T01:24:00",
          "1995-06-09T02:16:00",
          "1996-03-17T19:01:00",
          "1996-11-29T22:53:00",
          "1997-04-28T02:12:00",
          "1997-09-01T23:45:00",
          "1998-04-14T19:46:00",
          "1998-08-10T23:36:00",
          "1998-11-25T18:26:00",
          "2000-08-14T08:14:00",
          "2000-09-19T13:20:00",
          "2001-03-29T18:37:00",
          "2001-05-25T23:31:00",
          "2001-12-16T05:40:00",
          "2002-01-22T12:23:00",
          "2002-04-04T18:43:00",
          "2003-06-08T20:12:00",
          "2003-11-12T00:38:00",
          "2003-11-12T23:24:00",
          "2004-06-26T20:00:00",
          "2004-09-29T13:37:00",
          "2006-04-25T02:41:00",
          "2007-09-26T08:02:00",
          "2007-12-24T19:52:00",
          "2008-07-13T09:16:00",
          "2008-08-15T13:00:00",
          "2008-10-02T02:43:00",
          "2009-08-24T13:04:00",
          "2009-10-08T15:47:00",
          "2010-07-22T16:12:00",
          "2010-10-30T04:15:00",
          "2010-12-01T05:18:00",
          "2010-12-09T03:34:00",
          "2012-06-14T23:09:00",
          "2012-12-12T06:40:00",
          "2014-03-18T07:10:00",
          "2014-04-23T17:21:00",
          "2014-06-08T05:57:00",
          "2014-08-12T00:53:00",
          "2014-08-30T03:14:00",
          "2015-03-27T06:20:00",
          "2015-07-25T04:55:00",
          "2015-12-11T13:16:00",
          "2016-09-12T20:55:00",
          "2016-10-31T09:25:00",
          "2017-02-24T10:03:00",
          "2017-03-28T19:42:00",
          "2017-06-01T12:09:00",
          "2017-09-01T12:06:00",
          "2017-09-29T20:01:00",
          "2017-10-31T03:01:00",
          "2018-12-22T01:04:00",
          "2019-05-25T23:05:00",
          "2020-04-29T09:56:00",
          "2020-11-29T05:08:00",
          "2021-03-21T16:03:00",
          "2021-08-21T15:10:00",
          "2021-11-21T19:20:00",
          "2021-12-11T13:51:00",
          "2021-12-17T17:26:00",
          "2022-01-18T21:51:00",
          "2022-05-27T14:26:00",
          "2022-07-19T22:42:00",
          "2023-04-26T03:43:00",
          "2023-11-02T15:49:00",
          "2024-07-28T02:47:00",
          "2024-10-12T01:52:00",
          "2025-05-25T14:28:00",
          "2025-11-19T01:27:00",
          "2027-03-18T19:29:00",
          "2027-10-27T00:27:00",
          "2027-10-29T12:12:00",
          "2028-06-26T05:23:00",
          "2028-10-26T06:44:00",
          "2029-04-04T16:10:00",
          "2029-04-13T21:46:00",
          "2029-07-15T18:05:00",
          "2029-11-26T03:33:00",
          "2030-09-11T16:00:00",
          "2032-12-23T01:16:00",
          "2033-03-21T09:55:00",
          "2033-09-08T14:41:00",
          "2033-10-07T10:46:00",
          "2033-12-21T05:53:00",
          "2036-02-07T06:08:00",
          "2036-05-25T13:43:00",
          "2036-06-11T18:04:00",
          "2036-11-22T22:56:00",
          "2036-12-22T10:21:00",
          "2038-09-19T14:32:00",
          "2038-11-16T13:44:00",
          "2038-12-27T07:34:00",
          "2039-06-28T02:39:00",
          "2040-11-28T13:42:00",
          "2040-11-29T12:49:00",
          "2040-12-20T14:56:00",
          "2041-10-04T19:53:00",
          "2042-04-07T04:33:00",
          "2042-05-03T07:22:00",
          "2045-08-22T01:38:00",
          "2046-04-03T19:52:00",
          "2046-05-30T22:51:00",
          "2046-06-07T03:06:00",
          "2046-08-26T19:47:00",
          "2046-11-13T04:49:00",
          "2047-02-23T23:11:00",
          "2048-05-13T23:58:00",
          "2048-09-25T18:13:00",
          "2050-07-17T08:02:00",
          "2051-04-20T01:59:00",
          "2051-07-23T14:33:00",
          "2051-08-23T03:35:00",
          "2051-10-28T08:38:00",
          "2052-03-22T18:57:00",
          "2052-11-02T11:57:00",
          "2053-11-16T05:46:00",
          "2053-11-26T22:17:00",
          "2054-05-25T21:17:00",
          "2054-07-25T06:45:00",
          "2054-10-09T11:19:00",
          "2054-12-19T07:13:00",
          "2055-08-11T18:26:00",
          "2055-09-10T11:41:00",
          "2056-07-14T09:03:00",
          "2056-10-08T09:39:00",
          "2057-01-16T23:23:00",
          "2057-09-02T00:41:00",
          "2058-02-05T16:42:00",
          "2058-09-11T14:28:00",
          "2058-10-31T23:57:00",
          "2059-01-22T16:41:00",
          "2059-03-23T21:11:00"
         ],
         "y": [
          0.01498345471918583,
          0.04256601259112358,
          0.02481076493859291,
          0.049783673137426376,
          0.02771153673529625,
          0.03144635632634163,
          0.037727247923612595,
          0.03333572670817375,
          0.030531294643878937,
          0.033567581325769424,
          0.016073929145932198,
          0.030465736985206604,
          0.04472719877958298,
          0.04496237263083458,
          0.040465351194143295,
          0.04979272559285164,
          0.02931349165737629,
          0.028345691040158272,
          0.02668304368853569,
          0.02900628000497818,
          0.02693786285817623,
          0.03354533389210701,
          0.032929323613643646,
          0.026453474536538124,
          0.03279205784201622,
          0.0406126044690609,
          0.03348133713006973,
          0.01857367902994156,
          0.03318457677960396,
          0.03132999315857887,
          0.035373907536268234,
          0.024150418117642403,
          0.03595682978630066,
          0.03330472856760025,
          0.03441718965768814,
          0.048942167311906815,
          0.031662214547395706,
          0.03410591930150986,
          0.01914200372993946,
          0.03543234243988991,
          0.01341450959444046,
          0.031073028221726418,
          0.024387095123529434,
          0.01810857653617859,
          0.0384492352604866,
          0.0465422049164772,
          0.047767266631126404,
          0.03825642541050911,
          0.032332390546798706,
          0.012485538609325886,
          0.029023947194218636,
          0.03845934942364693,
          0.04470926150679588,
          0.022840365767478943,
          0.048017553985118866,
          0.012896864674985409,
          0.010357145220041275,
          0.0344146303832531,
          0.031629528850317,
          0.020824210718274117,
          0.04244585707783699,
          0.045767512172460556,
          0.027682308107614517,
          0.04885786026716232,
          0.025178611278533936,
          0.02644437924027443,
          0.01295248419046402,
          0.04343415051698685,
          0.04269014298915863,
          0.03641491010785103,
          0.046332038938999176,
          0.0327397845685482,
          0.031559739261865616,
          0.008363785222172737,
          0.039929281920194626,
          0.034678973257541656,
          0.02990482747554779,
          0.048422399908304214,
          0.0279949139803648,
          0.045547883957624435,
          0.03476744517683983,
          0.033596575260162354,
          0.04268423840403557,
          0.02045423723757267,
          0.04723677784204483,
          0.020234424620866776,
          0.03847140073776245,
          0.018901336938142776,
          0.03463957458734512,
          0.04204849153757095,
          0.028762998059391975,
          0.013478744775056839,
          0.02291063964366913,
          0.038560740649700165,
          0.026298779994249344,
          0.03628149256110191,
          0.013245328329503536,
          0.026903174817562103,
          0.045175448060035706,
          0.016175780445337296,
          0.03511092811822891,
          0.03821785748004913,
          0.023804470896720886,
          0.04698196426033974,
          0.037924252450466156,
          0.048851754516363144,
          0.0486169271171093,
          0.04799848422408104,
          0.001662539318203926,
          0.006211503874510527,
          0.03101665899157524,
          0.0002540911955293268,
          0.04712669923901558,
          0.049565866589546204,
          0.014688721857964993,
          0.041970763355493546,
          0.022763794288039207,
          0.03031225875020027,
          0.0458717979490757,
          0.04744427651166916,
          0.03569823503494263,
          0.01553031150251627,
          0.04059866815805435,
          0.04090325906872749,
          0.03118244558572769,
          0.034472305327653885,
          0.019834015518426895,
          0.04439711943268776,
          0.017604650929570198,
          0.013561874628067017,
          0.021154174581170082,
          0.027361692860722542,
          0.009360685013234615,
          0.03223307058215141,
          0.02920864336192608,
          0.021161966025829315,
          0.011239202693104744,
          0.03185950219631195,
          0.0458163321018219,
          0.025077391415834427,
          0.035291749984025955,
          0.03005603700876236,
          0.04976050183176994,
          0.03232431784272194,
          0.016564058139920235,
          0.04146819934248924,
          0.029082071036100388,
          0.04788171127438545,
          0.025253914296627045,
          0.01893678307533264,
          0.0364246591925621,
          0.020382698625326157,
          0.035138726234436035,
          0.04568692669272423,
          0.046874407678842545,
          0.048487551510334015,
          0.014361872337758541,
          0.029471611604094505,
          0.046590663492679596,
          0.049557194113731384,
          0.024862485006451607,
          0.04730135202407837,
          0.04995778948068619,
          0.04234679788351059,
          0.045665521174669266,
          0.022126896306872368,
          0.04944147542119026,
          0.0453624352812767
         ]
        },
        {
         "marker": {
          "color": "orange",
          "size": 12
         },
         "mode": "markers",
         "name": "Earth",
         "type": "scatter",
         "x": [
          "2024-03-08T16:53:09.124225"
         ],
         "y": [
          0
         ]
        },
        {
         "line": {
          "color": "white",
          "dash": "dot",
          "width": 1
         },
         "mode": "lines",
         "name": "Present",
         "type": "scatter",
         "x": [
          "2024-03-08T16:53:09.124586",
          "2024-03-08T16:53:09.124588"
         ],
         "y": [
          0,
          0.04995778948068619
         ]
        }
       ],
       "layout": {
        "font": {
         "color": "white"
        },
        "paper_bgcolor": "black",
        "plot_bgcolor": "black",
        "template": {
         "data": {
          "bar": [
           {
            "error_x": {
             "color": "#2a3f5f"
            },
            "error_y": {
             "color": "#2a3f5f"
            },
            "marker": {
             "line": {
              "color": "#E5ECF6",
              "width": 0.5
             },
             "pattern": {
              "fillmode": "overlay",
              "size": 10,
              "solidity": 0.2
             }
            },
            "type": "bar"
           }
          ],
          "barpolar": [
           {
            "marker": {
             "line": {
              "color": "#E5ECF6",
              "width": 0.5
             },
             "pattern": {
              "fillmode": "overlay",
              "size": 10,
              "solidity": 0.2
             }
            },
            "type": "barpolar"
           }
          ],
          "carpet": [
           {
            "aaxis": {
             "endlinecolor": "#2a3f5f",
             "gridcolor": "white",
             "linecolor": "white",
             "minorgridcolor": "white",
             "startlinecolor": "#2a3f5f"
            },
            "baxis": {
             "endlinecolor": "#2a3f5f",
             "gridcolor": "white",
             "linecolor": "white",
             "minorgridcolor": "white",
             "startlinecolor": "#2a3f5f"
            },
            "type": "carpet"
           }
          ],
          "choropleth": [
           {
            "colorbar": {
             "outlinewidth": 0,
             "ticks": ""
            },
            "type": "choropleth"
           }
          ],
          "contour": [
           {
            "colorbar": {
             "outlinewidth": 0,
             "ticks": ""
            },
            "colorscale": [
             [
              0,
              "#0d0887"
             ],
             [
              0.1111111111111111,
              "#46039f"
             ],
             [
              0.2222222222222222,
              "#7201a8"
             ],
             [
              0.3333333333333333,
              "#9c179e"
             ],
             [
              0.4444444444444444,
              "#bd3786"
             ],
             [
              0.5555555555555556,
              "#d8576b"
             ],
             [
              0.6666666666666666,
              "#ed7953"
             ],
             [
              0.7777777777777778,
              "#fb9f3a"
             ],
             [
              0.8888888888888888,
              "#fdca26"
             ],
             [
              1,
              "#f0f921"
             ]
            ],
            "type": "contour"
           }
          ],
          "contourcarpet": [
           {
            "colorbar": {
             "outlinewidth": 0,
             "ticks": ""
            },
            "type": "contourcarpet"
           }
          ],
          "heatmap": [
           {
            "colorbar": {
             "outlinewidth": 0,
             "ticks": ""
            },
            "colorscale": [
             [
              0,
              "#0d0887"
             ],
             [
              0.1111111111111111,
              "#46039f"
             ],
             [
              0.2222222222222222,
              "#7201a8"
             ],
             [
              0.3333333333333333,
              "#9c179e"
             ],
             [
              0.4444444444444444,
              "#bd3786"
             ],
             [
              0.5555555555555556,
              "#d8576b"
             ],
             [
              0.6666666666666666,
              "#ed7953"
             ],
             [
              0.7777777777777778,
              "#fb9f3a"
             ],
             [
              0.8888888888888888,
              "#fdca26"
             ],
             [
              1,
              "#f0f921"
             ]
            ],
            "type": "heatmap"
           }
          ],
          "heatmapgl": [
           {
            "colorbar": {
             "outlinewidth": 0,
             "ticks": ""
            },
            "colorscale": [
             [
              0,
              "#0d0887"
             ],
             [
              0.1111111111111111,
              "#46039f"
             ],
             [
              0.2222222222222222,
              "#7201a8"
             ],
             [
              0.3333333333333333,
              "#9c179e"
             ],
             [
              0.4444444444444444,
              "#bd3786"
             ],
             [
              0.5555555555555556,
              "#d8576b"
             ],
             [
              0.6666666666666666,
              "#ed7953"
             ],
             [
              0.7777777777777778,
              "#fb9f3a"
             ],
             [
              0.8888888888888888,
              "#fdca26"
             ],
             [
              1,
              "#f0f921"
             ]
            ],
            "type": "heatmapgl"
           }
          ],
          "histogram": [
           {
            "marker": {
             "pattern": {
              "fillmode": "overlay",
              "size": 10,
              "solidity": 0.2
             }
            },
            "type": "histogram"
           }
          ],
          "histogram2d": [
           {
            "colorbar": {
             "outlinewidth": 0,
             "ticks": ""
            },
            "colorscale": [
             [
              0,
              "#0d0887"
             ],
             [
              0.1111111111111111,
              "#46039f"
             ],
             [
              0.2222222222222222,
              "#7201a8"
             ],
             [
              0.3333333333333333,
              "#9c179e"
             ],
             [
              0.4444444444444444,
              "#bd3786"
             ],
             [
              0.5555555555555556,
              "#d8576b"
             ],
             [
              0.6666666666666666,
              "#ed7953"
             ],
             [
              0.7777777777777778,
              "#fb9f3a"
             ],
             [
              0.8888888888888888,
              "#fdca26"
             ],
             [
              1,
              "#f0f921"
             ]
            ],
            "type": "histogram2d"
           }
          ],
          "histogram2dcontour": [
           {
            "colorbar": {
             "outlinewidth": 0,
             "ticks": ""
            },
            "colorscale": [
             [
              0,
              "#0d0887"
             ],
             [
              0.1111111111111111,
              "#46039f"
             ],
             [
              0.2222222222222222,
              "#7201a8"
             ],
             [
              0.3333333333333333,
              "#9c179e"
             ],
             [
              0.4444444444444444,
              "#bd3786"
             ],
             [
              0.5555555555555556,
              "#d8576b"
             ],
             [
              0.6666666666666666,
              "#ed7953"
             ],
             [
              0.7777777777777778,
              "#fb9f3a"
             ],
             [
              0.8888888888888888,
              "#fdca26"
             ],
             [
              1,
              "#f0f921"
             ]
            ],
            "type": "histogram2dcontour"
           }
          ],
          "mesh3d": [
           {
            "colorbar": {
             "outlinewidth": 0,
             "ticks": ""
            },
            "type": "mesh3d"
           }
          ],
          "parcoords": [
           {
            "line": {
             "colorbar": {
              "outlinewidth": 0,
              "ticks": ""
             }
            },
            "type": "parcoords"
           }
          ],
          "pie": [
           {
            "automargin": true,
            "type": "pie"
           }
          ],
          "scatter": [
           {
            "fillpattern": {
             "fillmode": "overlay",
             "size": 10,
             "solidity": 0.2
            },
            "type": "scatter"
           }
          ],
          "scatter3d": [
           {
            "line": {
             "colorbar": {
              "outlinewidth": 0,
              "ticks": ""
             }
            },
            "marker": {
             "colorbar": {
              "outlinewidth": 0,
              "ticks": ""
             }
            },
            "type": "scatter3d"
           }
          ],
          "scattercarpet": [
           {
            "marker": {
             "colorbar": {
              "outlinewidth": 0,
              "ticks": ""
             }
            },
            "type": "scattercarpet"
           }
          ],
          "scattergeo": [
           {
            "marker": {
             "colorbar": {
              "outlinewidth": 0,
              "ticks": ""
             }
            },
            "type": "scattergeo"
           }
          ],
          "scattergl": [
           {
            "marker": {
             "colorbar": {
              "outlinewidth": 0,
              "ticks": ""
             }
            },
            "type": "scattergl"
           }
          ],
          "scattermapbox": [
           {
            "marker": {
             "colorbar": {
              "outlinewidth": 0,
              "ticks": ""
             }
            },
            "type": "scattermapbox"
           }
          ],
          "scatterpolar": [
           {
            "marker": {
             "colorbar": {
              "outlinewidth": 0,
              "ticks": ""
             }
            },
            "type": "scatterpolar"
           }
          ],
          "scatterpolargl": [
           {
            "marker": {
             "colorbar": {
              "outlinewidth": 0,
              "ticks": ""
             }
            },
            "type": "scatterpolargl"
           }
          ],
          "scatterternary": [
           {
            "marker": {
             "colorbar": {
              "outlinewidth": 0,
              "ticks": ""
             }
            },
            "type": "scatterternary"
           }
          ],
          "surface": [
           {
            "colorbar": {
             "outlinewidth": 0,
             "ticks": ""
            },
            "colorscale": [
             [
              0,
              "#0d0887"
             ],
             [
              0.1111111111111111,
              "#46039f"
             ],
             [
              0.2222222222222222,
              "#7201a8"
             ],
             [
              0.3333333333333333,
              "#9c179e"
             ],
             [
              0.4444444444444444,
              "#bd3786"
             ],
             [
              0.5555555555555556,
              "#d8576b"
             ],
             [
              0.6666666666666666,
              "#ed7953"
             ],
             [
              0.7777777777777778,
              "#fb9f3a"
             ],
             [
              0.8888888888888888,
              "#fdca26"
             ],
             [
              1,
              "#f0f921"
             ]
            ],
            "type": "surface"
           }
          ],
          "table": [
           {
            "cells": {
             "fill": {
              "color": "#EBF0F8"
             },
             "line": {
              "color": "white"
             }
            },
            "header": {
             "fill": {
              "color": "#C8D4E3"
             },
             "line": {
              "color": "white"
             }
            },
            "type": "table"
           }
          ]
         },
         "layout": {
          "annotationdefaults": {
           "arrowcolor": "#2a3f5f",
           "arrowhead": 0,
           "arrowwidth": 1
          },
          "autotypenumbers": "strict",
          "coloraxis": {
           "colorbar": {
            "outlinewidth": 0,
            "ticks": ""
           }
          },
          "colorscale": {
           "diverging": [
            [
             0,
             "#8e0152"
            ],
            [
             0.1,
             "#c51b7d"
            ],
            [
             0.2,
             "#de77ae"
            ],
            [
             0.3,
             "#f1b6da"
            ],
            [
             0.4,
             "#fde0ef"
            ],
            [
             0.5,
             "#f7f7f7"
            ],
            [
             0.6,
             "#e6f5d0"
            ],
            [
             0.7,
             "#b8e186"
            ],
            [
             0.8,
             "#7fbc41"
            ],
            [
             0.9,
             "#4d9221"
            ],
            [
             1,
             "#276419"
            ]
           ],
           "sequential": [
            [
             0,
             "#0d0887"
            ],
            [
             0.1111111111111111,
             "#46039f"
            ],
            [
             0.2222222222222222,
             "#7201a8"
            ],
            [
             0.3333333333333333,
             "#9c179e"
            ],
            [
             0.4444444444444444,
             "#bd3786"
            ],
            [
             0.5555555555555556,
             "#d8576b"
            ],
            [
             0.6666666666666666,
             "#ed7953"
            ],
            [
             0.7777777777777778,
             "#fb9f3a"
            ],
            [
             0.8888888888888888,
             "#fdca26"
            ],
            [
             1,
             "#f0f921"
            ]
           ],
           "sequentialminus": [
            [
             0,
             "#0d0887"
            ],
            [
             0.1111111111111111,
             "#46039f"
            ],
            [
             0.2222222222222222,
             "#7201a8"
            ],
            [
             0.3333333333333333,
             "#9c179e"
            ],
            [
             0.4444444444444444,
             "#bd3786"
            ],
            [
             0.5555555555555556,
             "#d8576b"
            ],
            [
             0.6666666666666666,
             "#ed7953"
            ],
            [
             0.7777777777777778,
             "#fb9f3a"
            ],
            [
             0.8888888888888888,
             "#fdca26"
            ],
            [
             1,
             "#f0f921"
            ]
           ]
          },
          "colorway": [
           "#636efa",
           "#EF553B",
           "#00cc96",
           "#ab63fa",
           "#FFA15A",
           "#19d3f3",
           "#FF6692",
           "#B6E880",
           "#FF97FF",
           "#FECB52"
          ],
          "font": {
           "color": "#2a3f5f"
          },
          "geo": {
           "bgcolor": "white",
           "lakecolor": "white",
           "landcolor": "#E5ECF6",
           "showlakes": true,
           "showland": true,
           "subunitcolor": "white"
          },
          "hoverlabel": {
           "align": "left"
          },
          "hovermode": "closest",
          "mapbox": {
           "style": "light"
          },
          "paper_bgcolor": "white",
          "plot_bgcolor": "#E5ECF6",
          "polar": {
           "angularaxis": {
            "gridcolor": "white",
            "linecolor": "white",
            "ticks": ""
           },
           "bgcolor": "#E5ECF6",
           "radialaxis": {
            "gridcolor": "white",
            "linecolor": "white",
            "ticks": ""
           }
          },
          "scene": {
           "xaxis": {
            "backgroundcolor": "#E5ECF6",
            "gridcolor": "white",
            "gridwidth": 2,
            "linecolor": "white",
            "showbackground": true,
            "ticks": "",
            "zerolinecolor": "white"
           },
           "yaxis": {
            "backgroundcolor": "#E5ECF6",
            "gridcolor": "white",
            "gridwidth": 2,
            "linecolor": "white",
            "showbackground": true,
            "ticks": "",
            "zerolinecolor": "white"
           },
           "zaxis": {
            "backgroundcolor": "#E5ECF6",
            "gridcolor": "white",
            "gridwidth": 2,
            "linecolor": "white",
            "showbackground": true,
            "ticks": "",
            "zerolinecolor": "white"
           }
          },
          "shapedefaults": {
           "line": {
            "color": "#2a3f5f"
           }
          },
          "ternary": {
           "aaxis": {
            "gridcolor": "white",
            "linecolor": "white",
            "ticks": ""
           },
           "baxis": {
            "gridcolor": "white",
            "linecolor": "white",
            "ticks": ""
           },
           "bgcolor": "#E5ECF6",
           "caxis": {
            "gridcolor": "white",
            "linecolor": "white",
            "ticks": ""
           }
          },
          "title": {
           "x": 0.05
          },
          "xaxis": {
           "automargin": true,
           "gridcolor": "white",
           "linecolor": "white",
           "ticks": "",
           "title": {
            "standoff": 15
           },
           "zerolinecolor": "white",
           "zerolinewidth": 2
          },
          "yaxis": {
           "automargin": true,
           "gridcolor": "white",
           "linecolor": "white",
           "ticks": "",
           "title": {
            "standoff": 15
           },
           "zerolinecolor": "white",
           "zerolinewidth": 2
          }
         }
        },
        "title": {
         "text": "Asteroid Close Approaches to Earth"
        },
        "xaxis": {
         "range": [
          "1994-03-09T04:53:09.124984",
          "2054-03-09T04:53:09.124991"
         ],
         "showgrid": false,
         "tickformat": "%Y",
         "title": {
          "text": "Time"
         }
        },
        "yaxis": {
         "showgrid": false,
         "title": {
          "text": "Distance from Earth (AU)"
         }
        }
       }
      }
     },
     "metadata": {},
     "output_type": "display_data"
    }
   ],
   "source": [
    "asteroid_distances = dist  \n",
    "asteroid_times = time_cd\n",
    "\n",
    "\n",
    "# Create the plot\n",
    "fig = go.Figure()\n",
    "\n",
    "# Plot asteroids\n",
    "fig.add_trace(go.Scatter(x=asteroid_times, y=asteroid_distances, mode='markers', \n",
    "                         marker=dict(color='lightblue', size=asteroids['diameter']*3),\n",
    "                         hovertext=[f\"Diameter: {diameter} km\" for diameter in asteroids['diameter']],\n",
    "                         name='Asteroids'))\n",
    "\n",
    "# Plot Earth\n",
    "fig.add_trace(go.Scatter(x=[datetime.datetime.now()], y=[0], mode='markers',\n",
    "                         marker=dict(color='orange', size=12), name='Earth'))\n",
    "\n",
    "# vertical line at present\n",
    "fig.add_trace(go.Scatter(x=[datetime.datetime.now(), datetime.datetime.now()], y=[0, max(asteroid_distances)],\n",
    "                         mode='lines', line=dict(color='white', width=1, dash='dot'), name='Present'))\n",
    "\n",
    "# layout\n",
    "fig.update_layout(\n",
    "    title='Asteroid Close Approaches to Earth',\n",
    "    xaxis=dict(title='Time', tickformat='%Y', range=[datetime.datetime.now() - datetime.timedelta(days=365.25*30)\n",
    "                                                     , datetime.datetime.now()+ datetime.timedelta(days = 365.25*30)],\n",
    "                                                          showgrid=False),\n",
    "    yaxis=dict(title='Distance from Earth (AU)', showgrid=False),\n",
    "    plot_bgcolor='black',\n",
    "    paper_bgcolor='black',\n",
    "    font = dict(color = 'white')\n",
    ")\n",
    "\n",
    "# Display\n",
    "fig.show()\n",
    "fig.update_layout({\n",
    "'plot_bgcolor': 'rgba(0, 0, 0, 0)',\n",
    "'paper_bgcolor': 'rgba(0, 0, 0, 0)',\n",
    "})\n",
    "fig.write_html(\"asteroid_plot.html\")\n"
   ]
  },
  {
   "cell_type": "code",
   "execution_count": 1,
   "metadata": {},
   "outputs": [
    {
     "ename": "NameError",
     "evalue": "name 'time_cd' is not defined",
     "output_type": "error",
     "traceback": [
      "\u001b[0;31m---------------------------------------------------------------------------\u001b[0m",
      "\u001b[0;31mNameError\u001b[0m                                 Traceback (most recent call last)",
      "Cell \u001b[0;32mIn[1], line 1\u001b[0m\n\u001b[0;32m----> 1\u001b[0m time_cd\u001b[38;5;241m.\u001b[39mmin()\n\u001b[1;32m      2\u001b[0m min_time \u001b[38;5;241m=\u001b[39m datetime\u001b[38;5;241m.\u001b[39mdatetime(\u001b[38;5;241m1980\u001b[39m, \u001b[38;5;241m7\u001b[39m, \u001b[38;5;241m8\u001b[39m)\n\u001b[1;32m      3\u001b[0m max_time \u001b[38;5;241m=\u001b[39m datetime\u001b[38;5;241m.\u001b[39mdatetime(\u001b[38;5;241m2100\u001b[39m, \u001b[38;5;241m1\u001b[39m, \u001b[38;5;241m1\u001b[39m)\n",
      "\u001b[0;31mNameError\u001b[0m: name 'time_cd' is not defined"
     ]
    }
   ],
   "source": [
    "time_cd.min()\n",
    "min_time = datetime.datetime(1980, 7, 8)\n",
    "max_time = datetime.datetime(2100, 1, 1)"
   ]
  },
  {
   "cell_type": "code",
   "execution_count": 9,
   "metadata": {},
   "outputs": [],
   "source": [
    "from urllib.parse import urlencode"
   ]
  },
  {
   "cell_type": "code",
   "execution_count": 22,
   "metadata": {},
   "outputs": [
    {
     "data": {
      "text/plain": [
       "'https://ssd-api.jpl.nasa.gov/cad.api?date-min=1980-01-01&date-max=2030-01-01&diameter=True'"
      ]
     },
     "execution_count": 22,
     "metadata": {},
     "output_type": "execute_result"
    }
   ],
   "source": [
    "params = {#'dist-max': '1',\n",
    "        #   'h-max': '20',\n",
    "          'date-min': '1980-01-01',\n",
    "          'date-max': '2030-01-01',\n",
    "          'diameter': True}\n",
    "url + '?' + urlencode(params)"
   ]
  }
 ],
 "metadata": {
  "kernelspec": {
   "display_name": "base",
   "language": "python",
   "name": "python3"
  },
  "language_info": {
   "codemirror_mode": {
    "name": "ipython",
    "version": 3
   },
   "file_extension": ".py",
   "mimetype": "text/x-python",
   "name": "python",
   "nbconvert_exporter": "python",
   "pygments_lexer": "ipython3",
   "version": "3.11.5"
  }
 },
 "nbformat": 4,
 "nbformat_minor": 2
}
