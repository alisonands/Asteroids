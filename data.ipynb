{
 "cells": [
  {
   "cell_type": "markdown",
   "metadata": {},
   "source": [
    "\n",
    "- des - primary designation of the asteroid or comet (e.g., 443, 2000 SG344)\n",
    "\n",
    "- orbit_id - orbit ID used for the close-approach computation\n",
    "- jd - time of close-approach (JD Ephemeris Time, TDB)\n",
    "- -->**cd - time of close-approach (formatted calendar date/time, TDB)**\n",
    "- dist - nominal approach distance (au)\n",
    "- dist_min - minimum (3-sigma) approach distance (au)\n",
    "- dist_max - maximum (3-sigma) approach distance (au)\n",
    "- v_rel - velocity relative to the approach body at close approach (km/s)\n",
    "- v_inf - velocity relative to a massless body (km/s)\n",
    "- -->**t_sigma_f - 3-sigma uncertainty in the time of close-approach (formatted in days, hours, and minutes; days are not included if zero; example “13:02” is 13 hours 2 minutes; example “2_09:08” is 2 days 9 hours 8 minutes)**\n",
    "- -->**body - name of the close-approach body (e.g., Earth) only output if the body query parameters is set to ALL**\n",
    "- **h - absolute magnitude H (mag)**\n",
    "- **diameter - diameter of the body (km)**\n",
    "- optional - only output if requested with the diameter query parameter\n",
    "null if not known   \n",
    "- diameter_sigma - 1-sigma uncertainty in the diameter of the body (km)\n",
    "    - optional - only output if requested with the diameter query parameter\n",
    "    - null if not known\n",
    "- fullname - formatted full-name/designation of the asteroid or comet\n",
    "    - optional - only output if requested with the fullname query parameter\n",
    "    - formatted with leading spaces for column alignment in monospaced font tables"
   ]
  },
  {
   "cell_type": "code",
   "execution_count": 2,
   "metadata": {},
   "outputs": [],
   "source": [
    "import requests\n",
    "import pandas as pd"
   ]
  },
  {
   "cell_type": "code",
   "execution_count": 19,
   "metadata": {},
   "outputs": [
    {
     "name": "stdout",
     "output_type": "stream",
     "text": [
      "url: https://ssd-api.jpl.nasa.gov/cad.api?h-max=20&date-min=1980-01-01&date-max=2030-01-01\n",
      "number of entries 369\n"
     ]
    }
   ],
   "source": [
    "url = 'https://ssd-api.jpl.nasa.gov/cad.api'\n",
    "params = {#'dist-max': '1',\n",
    "           'h-max': '20',\n",
    "          'date-min': '1980-01-01',\n",
    "          'date-max': '2030-01-01'}\n",
    "response = requests.get(url, params)\n",
    "print(f'''url: {response.url}\n",
    "number of entries {response.json()['count']}''')\n"
   ]
  },
  {
   "cell_type": "code",
   "execution_count": 20,
   "metadata": {},
   "outputs": [
    {
     "data": {
      "text/html": [
       "<div>\n",
       "<style scoped>\n",
       "    .dataframe tbody tr th:only-of-type {\n",
       "        vertical-align: middle;\n",
       "    }\n",
       "\n",
       "    .dataframe tbody tr th {\n",
       "        vertical-align: top;\n",
       "    }\n",
       "\n",
       "    .dataframe thead th {\n",
       "        text-align: right;\n",
       "    }\n",
       "</style>\n",
       "<table border=\"1\" class=\"dataframe\">\n",
       "  <thead>\n",
       "    <tr style=\"text-align: right;\">\n",
       "      <th></th>\n",
       "      <th>des</th>\n",
       "      <th>orbit_id</th>\n",
       "      <th>jd</th>\n",
       "      <th>cd</th>\n",
       "      <th>dist</th>\n",
       "      <th>dist_min</th>\n",
       "      <th>dist_max</th>\n",
       "      <th>v_rel</th>\n",
       "      <th>v_inf</th>\n",
       "      <th>t_sigma_f</th>\n",
       "      <th>h</th>\n",
       "    </tr>\n",
       "  </thead>\n",
       "  <tbody>\n",
       "    <tr>\n",
       "      <th>0</th>\n",
       "      <td>576763</td>\n",
       "      <td>36</td>\n",
       "      <td>2444428.918901162</td>\n",
       "      <td>1980-Jul-08 10:03</td>\n",
       "      <td>0.0438457303214753</td>\n",
       "      <td>0.0438428310558048</td>\n",
       "      <td>0.0438486296104317</td>\n",
       "      <td>6.84126492355983</td>\n",
       "      <td>6.83237637475617</td>\n",
       "      <td>00:02</td>\n",
       "      <td>19.30</td>\n",
       "    </tr>\n",
       "  </tbody>\n",
       "</table>\n",
       "</div>"
      ],
      "text/plain": [
       "      des orbit_id                 jd                 cd                dist  \\\n",
       "0  576763       36  2444428.918901162  1980-Jul-08 10:03  0.0438457303214753   \n",
       "\n",
       "             dist_min            dist_max             v_rel             v_inf  \\\n",
       "0  0.0438428310558048  0.0438486296104317  6.84126492355983  6.83237637475617   \n",
       "\n",
       "  t_sigma_f      h  \n",
       "0     00:02  19.30  "
      ]
     },
     "execution_count": 20,
     "metadata": {},
     "output_type": "execute_result"
    }
   ],
   "source": [
    "data = response.json()\n",
    "data_cols = data['fields']\n",
    "data_vals = data['data']\n",
    "asteroids = pd.DataFrame(data_vals, columns=data_cols)\n",
    "asteroids.head(1)"
   ]
  },
  {
   "cell_type": "code",
   "execution_count": 21,
   "metadata": {},
   "outputs": [],
   "source": [
    "asteroids['cd'] = pd.to_datetime(asteroids['cd'])\n",
    "asteroids['orbit_id'] = pd.to_numeric(asteroids['orbit_id'])\n",
    "# asteroids['des'] = pd.to_numeric(asteroids['des'])\n",
    "asteroids['jd'] = pd.to_numeric(asteroids['jd'], downcast='float')\n",
    "asteroids['dist'] = pd.to_numeric(asteroids['dist'], downcast='float')\n",
    "asteroids['dist_min'] = pd.to_numeric(asteroids['dist_min'], downcast='float')\n",
    "asteroids['dist_max'] = pd.to_numeric(asteroids['dist_max'], downcast='float')\n",
    "asteroids['v_rel'] = pd.to_numeric(asteroids['v_rel'], downcast='float')\n",
    "asteroids['v_inf'] = pd.to_numeric(asteroids['v_inf'], downcast='float')\n",
    "asteroids['h'] = pd.to_numeric(asteroids['h'], downcast='float')"
   ]
  },
  {
   "cell_type": "code",
   "execution_count": 22,
   "metadata": {},
   "outputs": [
    {
     "data": {
      "text/plain": [
       "des                  object\n",
       "orbit_id              int64\n",
       "jd                  float64\n",
       "cd           datetime64[ns]\n",
       "dist                float32\n",
       "dist_min            float32\n",
       "dist_max            float32\n",
       "v_rel               float32\n",
       "v_inf               float32\n",
       "t_sigma_f            object\n",
       "h                   float32\n",
       "dtype: object"
      ]
     },
     "execution_count": 22,
     "metadata": {},
     "output_type": "execute_result"
    }
   ],
   "source": [
    "asteroids.dtypes"
   ]
  },
  {
   "cell_type": "code",
   "execution_count": 23,
   "metadata": {},
   "outputs": [],
   "source": [
    "asteroids\n",
    "dist = asteroids['dist']\n",
    "time_cd = asteroids['cd']"
   ]
  },
  {
   "cell_type": "code",
   "execution_count": 24,
   "metadata": {},
   "outputs": [
    {
     "data": {
      "text/plain": [
       "[<matplotlib.lines.Line2D at 0x14737f710>]"
      ]
     },
     "execution_count": 24,
     "metadata": {},
     "output_type": "execute_result"
    },
    {
     "data": {
      "image/png": "[encoded data removed]",
      "text/plain": [
       "<Figure size 640x480 with 1 Axes>"
      ]
     },
     "metadata": {},
     "output_type": "display_data"
    }
   ],
   "source": [
    "import matplotlib.pyplot as plt\n",
    "plt.plot(time_cd, dist, '.')"
   ]
  },
  {
   "cell_type": "code",
   "execution_count": 25,
   "metadata": {},
   "outputs": [],
   "source": [
    "from urllib.parse import urlencode"
   ]
  },
  {
   "cell_type": "code",
   "execution_count": 26,
   "metadata": {},
   "outputs": [
    {
     "data": {
      "text/plain": [
       "'https://ssd-api.jpl.nasa.gov/cad.api?date-min=1980-01-01&date-max=2030-01-01'"
      ]
     },
     "execution_count": 26,
     "metadata": {},
     "output_type": "execute_result"
    }
   ],
   "source": [
    "params = {#'dist-max': '1',\n",
    "        #   'h-max': '20',\n",
    "          'date-min': '1980-01-01',\n",
    "          'date-max': '2030-01-01'}\n",
    "url + '?' + urlencode(params)"
   ]
  }
 ],
 "metadata": {
  "kernelspec": {
   "display_name": "base",
   "language": "python",
   "name": "python3"
  },
  "language_info": {
   "codemirror_mode": {
    "name": "ipython",
    "version": 3
   },
   "file_extension": ".py",
   "mimetype": "text/x-python",
   "name": "python",
   "nbconvert_exporter": "python",
   "pygments_lexer": "ipython3",
   "version": "3.11.5"
  }
 },
 "nbformat": 4,
 "nbformat_minor": 2
}
