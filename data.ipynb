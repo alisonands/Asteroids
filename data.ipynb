{
 "cells": [
  {
   "cell_type": "markdown",
   "metadata": {},
   "source": [
    "\n",
    "- des - primary designation of the asteroid or comet (e.g., 443, 2000 SG344)\n",
    "\n",
    "- orbit_id - orbit ID used for the close-approach computation\n",
    "- jd - time of close-approach (JD Ephemeris Time, TDB)\n",
    "- -->**cd - time of close-approach (formatted calendar date/time, TDB)**\n",
    "- dist - nominal approach distance (au)\n",
    "- dist_min - minimum (3-sigma) approach distance (au)\n",
    "- dist_max - maximum (3-sigma) approach distance (au)\n",
    "- v_rel - velocity relative to the approach body at close approach (km/s)\n",
    "- v_inf - velocity relative to a massless body (km/s)\n",
    "- -->**t_sigma_f - 3-sigma uncertainty in the time of close-approach (formatted in days, hours, and minutes; days are not included if zero; example “13:02” is 13 hours 2 minutes; example “2_09:08” is 2 days 9 hours 8 minutes)**\n",
    "- -->**body - name of the close-approach body (e.g., Earth) only output if the body query parameters is set to ALL**\n",
    "- **h - absolute magnitude H (mag)**\n",
    "- **diameter - diameter of the body (km)**\n",
    "- optional - only output if requested with the diameter query parameter\n",
    "null if not known   \n",
    "- diameter_sigma - 1-sigma uncertainty in the diameter of the body (km)\n",
    "    - optional - only output if requested with the diameter query parameter\n",
    "    - null if not known\n",
    "- fullname - formatted full-name/designation of the asteroid or comet\n",
    "    - optional - only output if requested with the fullname query parameter\n",
    "    - formatted with leading spaces for column alignment in monospaced font tables"
   ]
  },
  {
   "cell_type": "code",
   "execution_count": 1,
   "metadata": {},
   "outputs": [],
   "source": [
    "import requests\n",
    "import pandas as pd"
   ]
  },
  {
   "cell_type": "code",
   "execution_count": 2,
   "metadata": {},
   "outputs": [
    {
     "name": "stdout",
     "output_type": "stream",
     "text": [
      "url: https://ssd-api.jpl.nasa.gov/cad.api?h-max=20&date-min=1980-01-01&date-max=2030-01-01\n",
      "number of entries 369\n"
     ]
    }
   ],
   "source": [
    "url = 'https://ssd-api.jpl.nasa.gov/cad.api'\n",
    "params = {#'dist-max': '1',\n",
    "           'h-max': '20',\n",
    "          'date-min': '1980-01-01',\n",
    "          'date-max': '2030-01-01'}\n",
    "response = requests.get(url, params)\n",
    "print(f'''url: {response.url}\n",
    "number of entries {response.json()['count']}''')\n"
   ]
  },
  {
   "cell_type": "code",
   "execution_count": 3,
   "metadata": {},
   "outputs": [
    {
     "data": {
      "text/html": [
       "<div>\n",
       "<style scoped>\n",
       "    .dataframe tbody tr th:only-of-type {\n",
       "        vertical-align: middle;\n",
       "    }\n",
       "\n",
       "    .dataframe tbody tr th {\n",
       "        vertical-align: top;\n",
       "    }\n",
       "\n",
       "    .dataframe thead th {\n",
       "        text-align: right;\n",
       "    }\n",
       "</style>\n",
       "<table border=\"1\" class=\"dataframe\">\n",
       "  <thead>\n",
       "    <tr style=\"text-align: right;\">\n",
       "      <th></th>\n",
       "      <th>des</th>\n",
       "      <th>orbit_id</th>\n",
       "      <th>jd</th>\n",
       "      <th>cd</th>\n",
       "      <th>dist</th>\n",
       "      <th>dist_min</th>\n",
       "      <th>dist_max</th>\n",
       "      <th>v_rel</th>\n",
       "      <th>v_inf</th>\n",
       "      <th>t_sigma_f</th>\n",
       "      <th>h</th>\n",
       "    </tr>\n",
       "  </thead>\n",
       "  <tbody>\n",
       "    <tr>\n",
       "      <th>0</th>\n",
       "      <td>576763</td>\n",
       "      <td>36</td>\n",
       "      <td>2444428.918901162</td>\n",
       "      <td>1980-Jul-08 10:03</td>\n",
       "      <td>0.0438457303214753</td>\n",
       "      <td>0.0438428310558048</td>\n",
       "      <td>0.0438486296104317</td>\n",
       "      <td>6.84126492355983</td>\n",
       "      <td>6.83237637475617</td>\n",
       "      <td>00:02</td>\n",
       "      <td>19.30</td>\n",
       "    </tr>\n",
       "  </tbody>\n",
       "</table>\n",
       "</div>"
      ],
      "text/plain": [
       "      des orbit_id                 jd                 cd                dist  \\\n",
       "0  576763       36  2444428.918901162  1980-Jul-08 10:03  0.0438457303214753   \n",
       "\n",
       "             dist_min            dist_max             v_rel             v_inf  \\\n",
       "0  0.0438428310558048  0.0438486296104317  6.84126492355983  6.83237637475617   \n",
       "\n",
       "  t_sigma_f      h  \n",
       "0     00:02  19.30  "
      ]
     },
     "execution_count": 3,
     "metadata": {},
     "output_type": "execute_result"
    }
   ],
   "source": [
    "data = response.json()\n",
    "data_cols = data['fields']\n",
    "data_vals = data['data']\n",
    "asteroids = pd.DataFrame(data_vals, columns=data_cols)\n",
    "asteroids.head(1)"
   ]
  },
  {
   "cell_type": "code",
   "execution_count": 4,
   "metadata": {},
   "outputs": [],
   "source": [
    "asteroids['cd'] = pd.to_datetime(asteroids['cd'])\n",
    "asteroids['orbit_id'] = pd.to_numeric(asteroids['orbit_id'])\n",
    "# asteroids['des'] = pd.to_numeric(asteroids['des'])\n",
    "asteroids['jd'] = pd.to_numeric(asteroids['jd'], downcast='float')\n",
    "asteroids['dist'] = pd.to_numeric(asteroids['dist'], downcast='float')\n",
    "asteroids['dist_min'] = pd.to_numeric(asteroids['dist_min'], downcast='float')\n",
    "asteroids['dist_max'] = pd.to_numeric(asteroids['dist_max'], downcast='float')\n",
    "asteroids['v_rel'] = pd.to_numeric(asteroids['v_rel'], downcast='float')\n",
    "asteroids['v_inf'] = pd.to_numeric(asteroids['v_inf'], downcast='float')\n",
    "asteroids['h'] = pd.to_numeric(asteroids['h'], downcast='float')"
   ]
  },
  {
   "cell_type": "code",
   "execution_count": 5,
   "metadata": {},
   "outputs": [
    {
     "data": {
      "text/plain": [
       "des                  object\n",
       "orbit_id              int64\n",
       "jd                  float64\n",
       "cd           datetime64[ns]\n",
       "dist                float32\n",
       "dist_min            float32\n",
       "dist_max            float32\n",
       "v_rel               float32\n",
       "v_inf               float32\n",
       "t_sigma_f            object\n",
       "h                   float32\n",
       "dtype: object"
      ]
     },
     "execution_count": 5,
     "metadata": {},
     "output_type": "execute_result"
    }
   ],
   "source": [
    "asteroids.dtypes"
   ]
  },
  {
   "cell_type": "code",
   "execution_count": 6,
   "metadata": {},
   "outputs": [],
   "source": [
    "asteroids\n",
    "dist = asteroids['dist']\n",
    "time_cd = asteroids['cd']"
   ]
  },
  {
   "cell_type": "code",
   "execution_count": 7,
   "metadata": {},
   "outputs": [
    {
     "data": {
      "text/plain": [
       "[<matplotlib.lines.Line2D at 0x135818090>]"
      ]
     },
     "execution_count": 7,
     "metadata": {},
     "output_type": "execute_result"
    },
    {
     "data": {
      "image/png": "[encoded data removed]",
      "text/plain": [
       "<Figure size 640x480 with 1 Axes>"
      ]
     },
     "metadata": {},
     "output_type": "display_data"
    }
   ],
   "source": [
    "import matplotlib.pyplot as plt\n",
    "plt.plot(time_cd, dist, '.')"
   ]
  },
  {
   "cell_type": "code",
   "execution_count": 37,
   "metadata": {},
   "outputs": [],
   "source": [
    "time_cd.min()\n",
    "min_time = datetime.datetime(1980, 7, 8)\n",
    "max_time = datetime.datetime(2100, 1, 1)"
   ]
  },
  {
   "cell_type": "code",
   "execution_count": 54,
   "metadata": {},
   "outputs": [
    {
     "data": {
      "application/vnd.plotly.v1+json": {
       "config": {
        "plotlyServerURL": "https://plot.ly"
       },
       "data": [
        {
         "marker": {
          "color": "lightblue",
          "size": 3
         },
         "mode": "markers",
         "name": "Asteroids",
         "type": "scatter",
         "x": [
          "1980-07-08T10:03:00",
          "1980-07-21T02:38:00",
          "1980-09-17T18:15:00",
          "1980-11-13T16:28:00",
          "1981-02-05T06:23:00",
          "1981-03-03T21:19:00",
          "1981-05-18T04:56:00",
          "1981-05-23T15:01:00",
          "1981-07-01T10:51:00",
          "1981-08-11T01:00:00",
          "1981-10-11T07:28:00",
          "1981-11-08T02:39:00",
          "1982-01-22T02:58:00",
          "1982-01-23T20:17:00",
          "1982-01-30T18:35:00",
          "1982-04-13T19:45:00",
          "1982-06-27T20:57:00",
          "1982-10-21T18:44:00",
          "1982-12-22T02:16:00",
          "1983-01-17T16:58:00",
          "1983-02-01T05:34:00",
          "1983-02-15T03:13:00",
          "1983-07-10T22:38:00",
          "1983-08-21T00:46:00",
          "1983-08-30T10:50:00",
          "1983-09-21T02:33:00",
          "1984-03-20T21:33:00",
          "1984-04-30T19:06:00",
          "1984-05-25T03:33:00",
          "1984-06-19T01:10:00",
          "1984-07-09T00:28:00",
          "1984-07-13T08:57:00",
          "1984-07-28T17:21:00",
          "1984-09-18T17:16:00",
          "1985-07-11T10:43:00",
          "1985-08-29T15:38:00",
          "1985-09-29T05:15:00",
          "1985-10-13T00:20:00",
          "1985-10-20T20:15:00",
          "1985-11-02T23:49:00",
          "1985-11-24T21:16:00",
          "1985-11-26T15:20:00",
          "1986-01-16T21:26:00",
          "1986-02-05T00:26:00",
          "1986-05-29T01:30:00",
          "1986-06-26T22:46:00",
          "1986-06-29T09:37:00",
          "1986-07-11T13:43:00",
          "1986-10-28T07:55:00",
          "1987-03-29T08:21:00",
          "1987-06-27T04:20:00",
          "1987-10-26T05:22:00",
          "1987-12-11T21:36:00",
          "1987-12-15T23:27:00",
          "1988-01-30T02:51:00",
          "1988-02-26T15:06:00",
          "1988-06-21T11:56:00",
          "1988-10-14T13:54:00",
          "1989-03-18T20:26:00",
          "1989-06-12T04:51:00",
          "1989-07-04T08:55:00",
          "1989-07-14T15:00:00",
          "1989-08-01T09:00:00",
          "1989-08-17T05:38:00",
          "1989-08-25T04:24:00",
          "1989-10-19T05:56:00",
          "1989-12-30T08:22:00",
          "1990-04-06T09:41:00",
          "1990-04-14T20:44:00",
          "1990-05-17T07:15:00",
          "1990-07-10T12:04:00",
          "1990-08-06T16:04:00",
          "1990-08-08T06:13:00",
          "1990-08-08T09:55:00",
          "1990-09-24T15:49:00",
          "1990-10-09T23:56:00",
          "1990-10-28T18:33:00",
          "1991-02-15T02:07:00",
          "1991-05-11T05:44:00",
          "1991-06-11T19:17:00",
          "1991-08-23T23:27:00",
          "1991-09-19T10:47:00",
          "1991-10-26T10:17:00",
          "1991-11-30T11:27:00",
          "1992-02-25T09:34:00",
          "1992-06-05T17:14:00",
          "1992-07-01T07:18:00",
          "1992-08-14T07:43:00",
          "1992-08-16T20:35:00",
          "1992-09-08T04:08:00",
          "1992-12-08T05:36:00",
          "1992-12-19T12:04:00",
          "1993-01-11T14:16:00",
          "1993-03-13T07:29:00",
          "1993-06-29T11:35:00",
          "1993-09-27T22:26:00",
          "1993-10-22T01:09:00",
          "1993-10-23T22:39:00",
          "1993-11-04T22:46:00",
          "1994-07-08T00:52:00",
          "1994-08-05T22:37:00",
          "1994-08-18T08:16:00",
          "1994-08-25T10:10:00",
          "1994-10-03T16:36:00",
          "1994-11-02T00:38:00",
          "1994-11-08T13:19:00",
          "1994-12-14T01:32:00",
          "1995-01-23T16:34:00",
          "1995-03-04T15:39:00",
          "1995-04-22T01:31:00",
          "1995-05-02T06:06:00",
          "1995-05-19T01:24:00",
          "1995-06-09T02:16:00",
          "1995-06-22T12:18:00",
          "1995-06-24T03:37:00",
          "1995-06-28T13:31:00",
          "1996-03-17T19:01:00",
          "1996-04-01T20:35:00",
          "1996-05-24T14:54:00",
          "1996-07-24T02:23:00",
          "1996-09-07T09:15:00",
          "1996-10-16T01:38:00",
          "1996-11-29T22:53:00",
          "1997-04-03T14:37:00",
          "1997-04-28T02:12:00",
          "1997-08-23T12:11:00",
          "1997-09-01T23:45:00",
          "1998-02-09T05:32:00",
          "1998-02-21T11:51:00",
          "1998-02-28T21:55:00",
          "1998-04-03T02:40:00",
          "1998-04-14T19:46:00",
          "1998-05-27T22:02:00",
          "1998-07-13T12:43:00",
          "1998-08-10T23:36:00",
          "1998-11-18T12:47:00",
          "1998-11-25T18:26:00",
          "1999-01-23T08:18:00",
          "1999-02-15T08:03:00",
          "1999-02-23T12:14:00",
          "1999-02-23T20:55:00",
          "1999-04-08T21:39:00",
          "1999-04-22T00:04:00",
          "1999-07-09T05:11:00",
          "1999-11-05T23:04:00",
          "2000-05-13T19:53:00",
          "2000-07-02T15:26:00",
          "2000-08-14T08:14:00",
          "2000-09-01T12:56:00",
          "2000-09-19T13:20:00",
          "2000-11-29T21:20:00",
          "2000-12-03T14:27:00",
          "2001-01-12T05:23:00",
          "2001-02-09T07:26:00",
          "2001-02-26T17:15:00",
          "2001-03-29T18:37:00",
          "2001-03-31T21:43:00",
          "2001-05-25T23:31:00",
          "2001-08-27T02:54:00",
          "2001-12-16T05:40:00",
          "2002-01-22T12:23:00",
          "2002-01-26T15:43:00",
          "2002-03-06T16:25:00",
          "2002-04-04T18:43:00",
          "2002-04-24T05:04:00",
          "2002-08-18T07:48:00",
          "2002-08-27T08:08:00",
          "2002-08-30T01:36:00",
          "2002-09-16T09:07:00",
          "2002-11-04T04:57:00",
          "2003-06-08T20:12:00",
          "2003-08-16T14:13:00",
          "2003-10-28T16:12:00",
          "2003-11-04T04:49:00",
          "2003-11-12T00:38:00",
          "2003-11-12T23:24:00",
          "2004-02-26T04:19:00",
          "2004-06-26T20:00:00",
          "2004-08-06T10:53:00",
          "2004-08-23T20:45:00",
          "2004-09-29T13:37:00",
          "2004-12-08T08:12:00",
          "2004-12-24T10:31:00",
          "2005-07-10T00:36:00",
          "2005-08-08T09:45:00",
          "2005-10-21T09:34:00",
          "2005-11-08T00:07:00",
          "2005-12-13T10:05:00",
          "2005-12-30T14:54:00",
          "2006-03-06T04:24:00",
          "2006-04-25T02:41:00",
          "2006-05-16T04:30:00",
          "2006-06-03T19:57:00",
          "2006-07-03T04:26:00",
          "2006-07-29T10:21:00",
          "2006-10-02T10:49:00",
          "2007-03-31T05:49:00",
          "2007-04-26T00:51:00",
          "2007-07-29T14:07:00",
          "2007-09-26T08:02:00",
          "2007-11-26T01:30:00",
          "2007-12-24T19:52:00",
          "2008-01-10T10:20:00",
          "2008-02-19T22:21:00",
          "2008-04-17T02:46:00",
          "2008-05-09T20:12:00",
          "2008-07-13T09:16:00",
          "2008-07-14T14:56:00",
          "2008-07-21T13:42:00",
          "2008-08-15T13:00:00",
          "2008-10-02T02:43:00",
          "2008-11-25T13:04:00",
          "2009-01-17T17:58:00",
          "2009-02-10T23:50:00",
          "2009-03-31T10:48:00",
          "2009-06-10T06:23:00",
          "2009-08-09T07:08:00",
          "2009-08-24T13:04:00",
          "2009-09-17T22:59:00",
          "2009-09-29T18:44:00",
          "2009-10-08T15:47:00",
          "2010-02-09T06:11:00",
          "2010-07-22T16:12:00",
          "2010-09-20T20:49:00",
          "2010-10-30T04:15:00",
          "2010-12-01T05:18:00",
          "2010-12-08T00:09:00",
          "2010-12-09T03:34:00",
          "2011-03-19T17:03:00",
          "2011-04-01T18:14:00",
          "2011-08-06T04:56:00",
          "2011-12-11T04:01:00",
          "2011-12-20T21:11:00",
          "2012-02-19T20:38:00",
          "2012-06-02T07:25:00",
          "2012-06-14T23:09:00",
          "2012-06-21T18:15:00",
          "2012-06-23T19:15:00",
          "2012-07-22T23:40:00",
          "2012-11-05T16:42:00",
          "2012-12-12T06:40:00",
          "2013-01-31T09:48:00",
          "2013-04-24T20:51:00",
          "2013-05-23T13:59:00",
          "2013-05-31T20:59:00",
          "2013-09-16T17:14:00",
          "2013-09-24T18:21:00",
          "2013-10-02T12:41:00",
          "2014-01-21T15:39:00",
          "2014-02-10T19:05:00",
          "2014-03-11T09:24:00",
          "2014-03-18T07:10:00",
          "2014-04-23T17:21:00",
          "2014-06-08T05:57:00",
          "2014-08-12T00:53:00",
          "2014-08-17T20:19:00",
          "2014-08-30T03:14:00",
          "2015-01-26T16:49:00",
          "2015-03-13T10:13:00",
          "2015-03-27T06:20:00",
          "2015-07-19T14:37:00",
          "2015-07-25T04:55:00",
          "2015-10-04T18:50:00",
          "2015-12-11T13:16:00",
          "2016-09-12T20:55:00",
          "2016-10-27T16:47:00",
          "2016-10-31T09:25:00",
          "2016-12-12T14:53:00",
          "2017-02-24T10:03:00",
          "2017-03-28T19:42:00",
          "2017-04-19T12:24:00",
          "2017-05-29T15:44:00",
          "2017-06-01T12:09:00",
          "2017-09-01T12:06:00",
          "2017-09-29T20:01:00",
          "2017-10-22T11:02:00",
          "2017-10-31T03:01:00",
          "2018-02-04T21:31:00",
          "2018-05-29T02:46:00",
          "2018-06-21T20:53:00",
          "2018-06-23T01:05:00",
          "2018-09-03T10:09:00",
          "2018-12-22T01:04:00",
          "2019-03-27T03:15:00",
          "2019-05-25T23:05:00",
          "2019-08-10T07:23:00",
          "2019-09-14T23:54:00",
          "2019-10-25T17:21:00",
          "2019-11-21T00:01:00",
          "2019-12-26T07:54:00",
          "2020-02-15T11:05:00",
          "2020-04-29T09:56:00",
          "2020-05-21T21:45:00",
          "2020-11-29T05:08:00",
          "2021-01-06T21:52:00",
          "2021-01-09T09:16:00",
          "2021-03-02T19:52:00",
          "2021-03-21T16:03:00",
          "2021-08-21T15:10:00",
          "2021-11-21T19:20:00",
          "2021-12-11T13:51:00",
          "2021-12-17T17:26:00",
          "2022-01-18T21:51:00",
          "2022-03-04T07:59:00",
          "2022-04-28T02:46:00",
          "2022-05-09T00:13:00",
          "2022-05-27T14:26:00",
          "2022-07-19T22:42:00",
          "2022-11-01T18:26:00",
          "2022-12-02T10:07:00",
          "2023-02-16T00:46:00",
          "2023-02-21T18:56:00",
          "2023-04-13T19:08:00",
          "2023-04-26T03:43:00",
          "2023-06-12T00:53:00",
          "2023-06-15T02:04:00",
          "2023-08-04T10:05:00",
          "2023-08-23T08:18:00",
          "2023-10-03T20:40:00",
          "2023-10-24T10:46:00",
          "2023-10-26T23:00:00",
          "2023-11-02T15:49:00",
          "2023-12-06T21:00:00",
          "2024-04-15T14:08:00",
          "2024-04-15T14:50:00",
          "2024-06-27T20:16:00",
          "2024-07-28T02:47:00",
          "2024-10-12T01:52:00",
          "2024-12-03T23:16:00",
          "2024-12-04T05:27:00",
          "2025-05-25T14:28:00",
          "2025-06-05T23:59:00",
          "2025-06-22T04:09:00",
          "2025-07-11T04:46:00",
          "2025-09-29T18:59:00",
          "2025-11-19T01:27:00",
          "2026-02-14T14:11:00",
          "2026-06-27T11:16:00",
          "2026-07-04T19:53:00",
          "2026-08-09T05:12:00",
          "2026-08-27T02:01:00",
          "2026-08-28T15:47:00",
          "2026-08-28T23:43:00",
          "2026-11-06T03:38:00",
          "2026-12-08T18:43:00",
          "2027-03-18T19:29:00",
          "2027-06-06T22:43:00",
          "2027-08-07T07:11:00",
          "2027-08-29T05:50:00",
          "2027-10-27T00:27:00",
          "2027-10-29T12:12:00",
          "2028-04-03T22:33:00",
          "2028-06-26T05:23:00",
          "2028-09-30T14:23:00",
          "2028-10-26T06:44:00",
          "2028-11-16T13:34:00",
          "2028-11-28T01:32:00",
          "2028-12-10T08:43:00",
          "2028-12-28T01:15:00",
          "2029-01-02T19:44:00",
          "2029-01-28T04:24:00",
          "2029-04-04T16:10:00",
          "2029-04-13T21:46:00",
          "2029-05-28T21:13:00",
          "2029-06-21T23:02:00",
          "2029-07-15T18:05:00",
          "2029-09-30T00:23:00",
          "2029-10-26T15:29:00",
          "2029-11-26T03:33:00"
         ],
         "y": [
          0.043845731765031815,
          0.01498345471918583,
          0.04773252457380295,
          0.048138923943042755,
          0.04256600886583328,
          0.03405309468507767,
          0.007092129904776812,
          0.04232754185795784,
          0.04223183915019035,
          0.02481076493859291,
          0.049783673137426376,
          0.022637946531176567,
          0.02740495838224888,
          0.02771153673529625,
          0.011547788046300411,
          0.03144635632634163,
          0.04418136179447174,
          0.007129037752747536,
          0.037727247923612595,
          0.03692234680056572,
          0.042770177125930786,
          0.031088318675756454,
          0.027674200013279915,
          0.03333572670817375,
          0.030531294643878937,
          0.033567581325769424,
          0.03417416661977768,
          0.026467612013220787,
          0.016073929145932198,
          0.030465736985206604,
          0.04472719877958298,
          0.020280955359339714,
          0.04496237263083458,
          0.04426836594939232,
          0.046471670269966125,
          0.04077533632516861,
          0.048133041709661484,
          0.04439229145646095,
          0.033943306654691696,
          0.040465351194143295,
          0.04979272559285164,
          0.02931349165737629,
          0.043536923825740814,
          0.04566975682973862,
          0.028345691040158272,
          0.013662693090736866,
          0.044175487011671066,
          0.03018374741077423,
          0.04835961386561394,
          0.04988279566168785,
          0.04911038279533386,
          0.04395939037203789,
          0.02668304368853569,
          0.02900628000497818,
          0.03388027474284172,
          0.040100667625665665,
          0.045590840280056,
          0.04593299701809883,
          0.0490863136947155,
          0.04179040715098381,
          0.025263991206884384,
          0.04809362813830376,
          0.01805759407579899,
          0.03921996429562569,
          0.02693786285817623,
          0.04183639585971832,
          0.030224338173866272,
          0.03354533389210701,
          0.032929323613643646,
          0.026453474536538124,
          0.03279205784201622,
          0.0406126044690609,
          0.02541079930961132,
          0.03348131850361824,
          0.04806175455451012,
          0.01857367902994156,
          0.03890545666217804,
          0.02172100730240345,
          0.036377523094415665,
          0.03318457677960396,
          0.0490821897983551,
          0.03132999315857887,
          0.042734380811452866,
          0.016965333372354507,
          0.035373907536268234,
          0.011556333862245083,
          0.04905446246266365,
          0.026781896129250526,
          0.014778848737478256,
          0.030094919726252556,
          0.024150418117642403,
          0.03595685958862305,
          0.02019064873456955,
          0.04837418720126152,
          0.04097791388630867,
          0.0314728282392025,
          0.041960787028074265,
          0.016471846029162407,
          0.04749670997262001,
          0.01795455627143383,
          0.04982892423868179,
          0.04438116028904915,
          0.03330472856760025,
          0.045039620250463486,
          0.03441718965768814,
          0.048942167311906815,
          0.02913033589720726,
          0.04169599711894989,
          0.04191325977444649,
          0.03624308109283447,
          0.01488241832703352,
          0.031662214547395706,
          0.03410591930150986,
          0.046096913516521454,
          0.010944755747914314,
          0.018924476578831673,
          0.01914200372993946,
          0.04706314951181412,
          0.019625721499323845,
          0.035293977707624435,
          0.015578514896333218,
          0.045806635171175,
          0.03543234243988991,
          0.03290544077754021,
          0.01341450959444046,
          0.03292155638337135,
          0.031073028221726418,
          0.0463271364569664,
          0.029262617230415344,
          0.03177328780293465,
          0.023790767416357994,
          0.024387095123529434,
          0.04594024270772934,
          0.029637230560183525,
          0.01810857653617859,
          0.04999933019280434,
          0.0384492352604866,
          0.043794576078653336,
          0.04366813972592354,
          0.03252337872982025,
          0.03629634901881218,
          0.02945713698863983,
          0.04790041968226433,
          0.0255991593003273,
          0.045389968901872635,
          0.026984263211488724,
          0.043722160160541534,
          0.0465422049164772,
          0.03165491670370102,
          0.047767266631126404,
          0.043703462928533554,
          0.02119004912674427,
          0.04332948848605156,
          0.032300036400556564,
          0.009834391996264458,
          0.03825642541050911,
          0.045393653213977814,
          0.032332390546798706,
          0.03371065855026245,
          0.012485538609325886,
          0.029023947194218636,
          0.02781696617603302,
          0.045071933418512344,
          0.03845934942364693,
          0.04314001277089119,
          0.00352260610088706,
          0.04869614169001579,
          0.03376571834087372,
          0.01579560711979866,
          0.04612929746508598,
          0.04470926150679588,
          0.025037553161382675,
          0.025972602888941765,
          0.04784167930483818,
          0.022840365767478943,
          0.048017553985118866,
          0.04189181327819824,
          0.012896864674985409,
          0.011026919819414616,
          0.041032347828149796,
          0.010357145220041275,
          0.01801234856247902,
          0.012665010057389736,
          0.026872655376791954,
          0.0402798168361187,
          0.043077047914266586,
          0.03595055267214775,
          0.026767807081341743,
          0.01811017096042633,
          0.020341267809271812,
          0.0344146303832531,
          0.01710209995508194,
          0.02586129680275917,
          0.0028906746301800013,
          0.03700396046042442,
          0.047868762165308,
          0.02264074981212616,
          0.03238668665289879,
          0.023803092539310455,
          0.031629528850317,
          0.015947239473462105,
          0.020824210718274117,
          0.027910904958844185,
          0.04081931337714195,
          0.04222036898136139,
          0.043164078146219254,
          0.04244585707783699,
          0.015080302022397518,
          0.03740760684013367,
          0.045767512172460556,
          0.027682308107614517,
          0.04556097835302353,
          0.029122209176421165,
          0.045358847826719284,
          0.03649064525961876,
          0.016837144270539284,
          0.04849720746278763,
          0.04885786026716232,
          0.04581334441900253,
          0.022182276472449303,
          0.025178611278533936,
          0.03667178004980087,
          0.02644437924027443,
          0.04175618290901184,
          0.01295248419046402,
          0.04343415051698685,
          0.044771578162908554,
          0.04269014298915863,
          0.04850843548774719,
          0.023512179031968117,
          0.028566895052790642,
          0.043146200478076935,
          0.04953263700008392,
          0.04544306918978691,
          0.04783431068062782,
          0.03641491010785103,
          0.043963365256786346,
          0.011547666043043137,
          0.03514484316110611,
          0.043293558061122894,
          0.046332038938999176,
          0.04545862600207329,
          0.02596650831401348,
          0.038769714534282684,
          0.03917381912469864,
          0.044761523604393005,
          0.04499753564596176,
          0.03574606403708458,
          0.0486280657351017,
          0.016032077372074127,
          0.035248465836048126,
          0.0327397845685482,
          0.031559739261865616,
          0.008363785222172737,
          0.039929281920194626,
          0.041243765503168106,
          0.034678973257541656,
          0.008020840585231781,
          0.044025857001543045,
          0.02990482747554779,
          0.016440069302916527,
          0.048422399908304214,
          0.04770279675722122,
          0.0279949139803648,
          0.045547883957624435,
          0.02585851401090622,
          0.03476744517683983,
          0.039143647998571396,
          0.033596575260162354,
          0.04268423840403557,
          0.011751797050237656,
          0.020364345982670784,
          0.02045423723757267,
          0.04723677784204483,
          0.020234424620866776,
          0.014833050779998302,
          0.03847140073776245,
          0.028125517070293427,
          0.024419259279966354,
          0.03986496850848198,
          0.045935023576021194,
          0.03143871948122978,
          0.018901336938142776,
          0.030744001269340515,
          0.03463957458734512,
          0.04976964369416237,
          0.03563588485121727,
          0.04155190661549568,
          0.028861256316304207,
          0.048740096390247345,
          0.038603559136390686,
          0.04204849153757095,
          0.041154634207487106,
          0.028762998059391975,
          0.02457306906580925,
          0.03776933252811432,
          0.019586555659770966,
          0.013478744775056839,
          0.02291063964366913,
          0.038560740649700165,
          0.026298779994249344,
          0.03628149256110191,
          0.013245328329503536,
          0.03282839059829712,
          0.021671291440725327,
          0.03817342594265938,
          0.026903174817562103,
          0.045175448060035706,
          0.015356643125414848,
          0.031547658145427704,
          0.030733494088053703,
          0.04363473877310753,
          0.031975701451301575,
          0.016175780445337296,
          0.021142326295375824,
          0.02880302630364895,
          0.03575398772954941,
          0.040652234107255936,
          0.042279552668333054,
          0.03395646810531616,
          0.0325847789645195,
          0.03511092811822891,
          0.03694476932287216,
          0.046988073736429214,
          0.02176961489021778,
          0.044393591582775116,
          0.03821785748004913,
          0.023804470896720886,
          0.0369800329208374,
          0.014768394641578197,
          0.04698196426033974,
          0.023347945883870125,
          0.03629540279507637,
          0.04067891091108322,
          0.0257538054138422,
          0.037924252450466156,
          0.04343853145837784,
          0.01715158112347126,
          0.023241762071847916,
          0.03356242924928665,
          0.04730919003486633,
          0.02396315336227417,
          0.02860317938029766,
          0.0484217144548893,
          0.0366181954741478,
          0.048851754516363144,
          0.030830197036266327,
          0.002606020774692297,
          0.042913127690553665,
          0.0486169271171093,
          0.04799848422408104,
          0.014405285939574242,
          0.001662539318203926,
          0.014991134405136108,
          0.006211503874510527,
          0.010154450312256813,
          0.02023489400744438,
          0.04403106868267059,
          0.04829283803701401,
          0.03166874498128891,
          0.008191507309675217,
          0.03101665899157524,
          0.0002540911955293268,
          0.03462192416191101,
          0.04654400795698166,
          0.04712669923901558,
          0.02614443004131317,
          0.04253143072128296,
          0.049565866589546204
         ]
        },
        {
         "marker": {
          "color": "red",
          "size": 12
         },
         "mode": "markers",
         "name": "Earth",
         "type": "scatter",
         "x": [
          "2024-02-29T15:58:59.569427"
         ],
         "y": [
          0
         ]
        },
        {
         "line": {
          "color": "white",
          "dash": "dot",
          "width": 1
         },
         "mode": "lines",
         "name": "Present",
         "type": "scatter",
         "x": [
          "2024-02-29T15:58:59.569744",
          "2024-02-29T15:58:59.569745"
         ],
         "y": [
          0,
          0.04999933019280434
         ]
        }
       ],
       "layout": {
        "font": {
         "color": "white"
        },
        "images": [
         {
          "layer": "above",
          "opacity": 0.8,
          "sizex": 1,
          "sizey": 1,
          "sizing": "stretch",
          "source": "https://cdn-icons-png.freepik.com/512/4195/4195181.png",
          "x": "2024-02-29T15:58:59.570122",
          "xref": "x",
          "y": 0,
          "yref": "y"
         }
        ],
        "paper_bgcolor": "black",
        "plot_bgcolor": "black",
        "template": {
         "data": {
          "bar": [
           {
            "error_x": {
             "color": "#2a3f5f"
            },
            "error_y": {
             "color": "#2a3f5f"
            },
            "marker": {
             "line": {
              "color": "#E5ECF6",
              "width": 0.5
             },
             "pattern": {
              "fillmode": "overlay",
              "size": 10,
              "solidity": 0.2
             }
            },
            "type": "bar"
           }
          ],
          "barpolar": [
           {
            "marker": {
             "line": {
              "color": "#E5ECF6",
              "width": 0.5
             },
             "pattern": {
              "fillmode": "overlay",
              "size": 10,
              "solidity": 0.2
             }
            },
            "type": "barpolar"
           }
          ],
          "carpet": [
           {
            "aaxis": {
             "endlinecolor": "#2a3f5f",
             "gridcolor": "white",
             "linecolor": "white",
             "minorgridcolor": "white",
             "startlinecolor": "#2a3f5f"
            },
            "baxis": {
             "endlinecolor": "#2a3f5f",
             "gridcolor": "white",
             "linecolor": "white",
             "minorgridcolor": "white",
             "startlinecolor": "#2a3f5f"
            },
            "type": "carpet"
           }
          ],
          "choropleth": [
           {
            "colorbar": {
             "outlinewidth": 0,
             "ticks": ""
            },
            "type": "choropleth"
           }
          ],
          "contour": [
           {
            "colorbar": {
             "outlinewidth": 0,
             "ticks": ""
            },
            "colorscale": [
             [
              0,
              "#0d0887"
             ],
             [
              0.1111111111111111,
              "#46039f"
             ],
             [
              0.2222222222222222,
              "#7201a8"
             ],
             [
              0.3333333333333333,
              "#9c179e"
             ],
             [
              0.4444444444444444,
              "#bd3786"
             ],
             [
              0.5555555555555556,
              "#d8576b"
             ],
             [
              0.6666666666666666,
              "#ed7953"
             ],
             [
              0.7777777777777778,
              "#fb9f3a"
             ],
             [
              0.8888888888888888,
              "#fdca26"
             ],
             [
              1,
              "#f0f921"
             ]
            ],
            "type": "contour"
           }
          ],
          "contourcarpet": [
           {
            "colorbar": {
             "outlinewidth": 0,
             "ticks": ""
            },
            "type": "contourcarpet"
           }
          ],
          "heatmap": [
           {
            "colorbar": {
             "outlinewidth": 0,
             "ticks": ""
            },
            "colorscale": [
             [
              0,
              "#0d0887"
             ],
             [
              0.1111111111111111,
              "#46039f"
             ],
             [
              0.2222222222222222,
              "#7201a8"
             ],
             [
              0.3333333333333333,
              "#9c179e"
             ],
             [
              0.4444444444444444,
              "#bd3786"
             ],
             [
              0.5555555555555556,
              "#d8576b"
             ],
             [
              0.6666666666666666,
              "#ed7953"
             ],
             [
              0.7777777777777778,
              "#fb9f3a"
             ],
             [
              0.8888888888888888,
              "#fdca26"
             ],
             [
              1,
              "#f0f921"
             ]
            ],
            "type": "heatmap"
           }
          ],
          "heatmapgl": [
           {
            "colorbar": {
             "outlinewidth": 0,
             "ticks": ""
            },
            "colorscale": [
             [
              0,
              "#0d0887"
             ],
             [
              0.1111111111111111,
              "#46039f"
             ],
             [
              0.2222222222222222,
              "#7201a8"
             ],
             [
              0.3333333333333333,
              "#9c179e"
             ],
             [
              0.4444444444444444,
              "#bd3786"
             ],
             [
              0.5555555555555556,
              "#d8576b"
             ],
             [
              0.6666666666666666,
              "#ed7953"
             ],
             [
              0.7777777777777778,
              "#fb9f3a"
             ],
             [
              0.8888888888888888,
              "#fdca26"
             ],
             [
              1,
              "#f0f921"
             ]
            ],
            "type": "heatmapgl"
           }
          ],
          "histogram": [
           {
            "marker": {
             "pattern": {
              "fillmode": "overlay",
              "size": 10,
              "solidity": 0.2
             }
            },
            "type": "histogram"
           }
          ],
          "histogram2d": [
           {
            "colorbar": {
             "outlinewidth": 0,
             "ticks": ""
            },
            "colorscale": [
             [
              0,
              "#0d0887"
             ],
             [
              0.1111111111111111,
              "#46039f"
             ],
             [
              0.2222222222222222,
              "#7201a8"
             ],
             [
              0.3333333333333333,
              "#9c179e"
             ],
             [
              0.4444444444444444,
              "#bd3786"
             ],
             [
              0.5555555555555556,
              "#d8576b"
             ],
             [
              0.6666666666666666,
              "#ed7953"
             ],
             [
              0.7777777777777778,
              "#fb9f3a"
             ],
             [
              0.8888888888888888,
              "#fdca26"
             ],
             [
              1,
              "#f0f921"
             ]
            ],
            "type": "histogram2d"
           }
          ],
          "histogram2dcontour": [
           {
            "colorbar": {
             "outlinewidth": 0,
             "ticks": ""
            },
            "colorscale": [
             [
              0,
              "#0d0887"
             ],
             [
              0.1111111111111111,
              "#46039f"
             ],
             [
              0.2222222222222222,
              "#7201a8"
             ],
             [
              0.3333333333333333,
              "#9c179e"
             ],
             [
              0.4444444444444444,
              "#bd3786"
             ],
             [
              0.5555555555555556,
              "#d8576b"
             ],
             [
              0.6666666666666666,
              "#ed7953"
             ],
             [
              0.7777777777777778,
              "#fb9f3a"
             ],
             [
              0.8888888888888888,
              "#fdca26"
             ],
             [
              1,
              "#f0f921"
             ]
            ],
            "type": "histogram2dcontour"
           }
          ],
          "mesh3d": [
           {
            "colorbar": {
             "outlinewidth": 0,
             "ticks": ""
            },
            "type": "mesh3d"
           }
          ],
          "parcoords": [
           {
            "line": {
             "colorbar": {
              "outlinewidth": 0,
              "ticks": ""
             }
            },
            "type": "parcoords"
           }
          ],
          "pie": [
           {
            "automargin": true,
            "type": "pie"
           }
          ],
          "scatter": [
           {
            "fillpattern": {
             "fillmode": "overlay",
             "size": 10,
             "solidity": 0.2
            },
            "type": "scatter"
           }
          ],
          "scatter3d": [
           {
            "line": {
             "colorbar": {
              "outlinewidth": 0,
              "ticks": ""
             }
            },
            "marker": {
             "colorbar": {
              "outlinewidth": 0,
              "ticks": ""
             }
            },
            "type": "scatter3d"
           }
          ],
          "scattercarpet": [
           {
            "marker": {
             "colorbar": {
              "outlinewidth": 0,
              "ticks": ""
             }
            },
            "type": "scattercarpet"
           }
          ],
          "scattergeo": [
           {
            "marker": {
             "colorbar": {
              "outlinewidth": 0,
              "ticks": ""
             }
            },
            "type": "scattergeo"
           }
          ],
          "scattergl": [
           {
            "marker": {
             "colorbar": {
              "outlinewidth": 0,
              "ticks": ""
             }
            },
            "type": "scattergl"
           }
          ],
          "scattermapbox": [
           {
            "marker": {
             "colorbar": {
              "outlinewidth": 0,
              "ticks": ""
             }
            },
            "type": "scattermapbox"
           }
          ],
          "scatterpolar": [
           {
            "marker": {
             "colorbar": {
              "outlinewidth": 0,
              "ticks": ""
             }
            },
            "type": "scatterpolar"
           }
          ],
          "scatterpolargl": [
           {
            "marker": {
             "colorbar": {
              "outlinewidth": 0,
              "ticks": ""
             }
            },
            "type": "scatterpolargl"
           }
          ],
          "scatterternary": [
           {
            "marker": {
             "colorbar": {
              "outlinewidth": 0,
              "ticks": ""
             }
            },
            "type": "scatterternary"
           }
          ],
          "surface": [
           {
            "colorbar": {
             "outlinewidth": 0,
             "ticks": ""
            },
            "colorscale": [
             [
              0,
              "#0d0887"
             ],
             [
              0.1111111111111111,
              "#46039f"
             ],
             [
              0.2222222222222222,
              "#7201a8"
             ],
             [
              0.3333333333333333,
              "#9c179e"
             ],
             [
              0.4444444444444444,
              "#bd3786"
             ],
             [
              0.5555555555555556,
              "#d8576b"
             ],
             [
              0.6666666666666666,
              "#ed7953"
             ],
             [
              0.7777777777777778,
              "#fb9f3a"
             ],
             [
              0.8888888888888888,
              "#fdca26"
             ],
             [
              1,
              "#f0f921"
             ]
            ],
            "type": "surface"
           }
          ],
          "table": [
           {
            "cells": {
             "fill": {
              "color": "#EBF0F8"
             },
             "line": {
              "color": "white"
             }
            },
            "header": {
             "fill": {
              "color": "#C8D4E3"
             },
             "line": {
              "color": "white"
             }
            },
            "type": "table"
           }
          ]
         },
         "layout": {
          "annotationdefaults": {
           "arrowcolor": "#2a3f5f",
           "arrowhead": 0,
           "arrowwidth": 1
          },
          "autotypenumbers": "strict",
          "coloraxis": {
           "colorbar": {
            "outlinewidth": 0,
            "ticks": ""
           }
          },
          "colorscale": {
           "diverging": [
            [
             0,
             "#8e0152"
            ],
            [
             0.1,
             "#c51b7d"
            ],
            [
             0.2,
             "#de77ae"
            ],
            [
             0.3,
             "#f1b6da"
            ],
            [
             0.4,
             "#fde0ef"
            ],
            [
             0.5,
             "#f7f7f7"
            ],
            [
             0.6,
             "#e6f5d0"
            ],
            [
             0.7,
             "#b8e186"
            ],
            [
             0.8,
             "#7fbc41"
            ],
            [
             0.9,
             "#4d9221"
            ],
            [
             1,
             "#276419"
            ]
           ],
           "sequential": [
            [
             0,
             "#0d0887"
            ],
            [
             0.1111111111111111,
             "#46039f"
            ],
            [
             0.2222222222222222,
             "#7201a8"
            ],
            [
             0.3333333333333333,
             "#9c179e"
            ],
            [
             0.4444444444444444,
             "#bd3786"
            ],
            [
             0.5555555555555556,
             "#d8576b"
            ],
            [
             0.6666666666666666,
             "#ed7953"
            ],
            [
             0.7777777777777778,
             "#fb9f3a"
            ],
            [
             0.8888888888888888,
             "#fdca26"
            ],
            [
             1,
             "#f0f921"
            ]
           ],
           "sequentialminus": [
            [
             0,
             "#0d0887"
            ],
            [
             0.1111111111111111,
             "#46039f"
            ],
            [
             0.2222222222222222,
             "#7201a8"
            ],
            [
             0.3333333333333333,
             "#9c179e"
            ],
            [
             0.4444444444444444,
             "#bd3786"
            ],
            [
             0.5555555555555556,
             "#d8576b"
            ],
            [
             0.6666666666666666,
             "#ed7953"
            ],
            [
             0.7777777777777778,
             "#fb9f3a"
            ],
            [
             0.8888888888888888,
             "#fdca26"
            ],
            [
             1,
             "#f0f921"
            ]
           ]
          },
          "colorway": [
           "#636efa",
           "#EF553B",
           "#00cc96",
           "#ab63fa",
           "#FFA15A",
           "#19d3f3",
           "#FF6692",
           "#B6E880",
           "#FF97FF",
           "#FECB52"
          ],
          "font": {
           "color": "#2a3f5f"
          },
          "geo": {
           "bgcolor": "white",
           "lakecolor": "white",
           "landcolor": "#E5ECF6",
           "showlakes": true,
           "showland": true,
           "subunitcolor": "white"
          },
          "hoverlabel": {
           "align": "left"
          },
          "hovermode": "closest",
          "mapbox": {
           "style": "light"
          },
          "paper_bgcolor": "white",
          "plot_bgcolor": "#E5ECF6",
          "polar": {
           "angularaxis": {
            "gridcolor": "white",
            "linecolor": "white",
            "ticks": ""
           },
           "bgcolor": "#E5ECF6",
           "radialaxis": {
            "gridcolor": "white",
            "linecolor": "white",
            "ticks": ""
           }
          },
          "scene": {
           "xaxis": {
            "backgroundcolor": "#E5ECF6",
            "gridcolor": "white",
            "gridwidth": 2,
            "linecolor": "white",
            "showbackground": true,
            "ticks": "",
            "zerolinecolor": "white"
           },
           "yaxis": {
            "backgroundcolor": "#E5ECF6",
            "gridcolor": "white",
            "gridwidth": 2,
            "linecolor": "white",
            "showbackground": true,
            "ticks": "",
            "zerolinecolor": "white"
           },
           "zaxis": {
            "backgroundcolor": "#E5ECF6",
            "gridcolor": "white",
            "gridwidth": 2,
            "linecolor": "white",
            "showbackground": true,
            "ticks": "",
            "zerolinecolor": "white"
           }
          },
          "shapedefaults": {
           "line": {
            "color": "#2a3f5f"
           }
          },
          "ternary": {
           "aaxis": {
            "gridcolor": "white",
            "linecolor": "white",
            "ticks": ""
           },
           "baxis": {
            "gridcolor": "white",
            "linecolor": "white",
            "ticks": ""
           },
           "bgcolor": "#E5ECF6",
           "caxis": {
            "gridcolor": "white",
            "linecolor": "white",
            "ticks": ""
           }
          },
          "title": {
           "x": 0.05
          },
          "xaxis": {
           "automargin": true,
           "gridcolor": "white",
           "linecolor": "white",
           "ticks": "",
           "title": {
            "standoff": 15
           },
           "zerolinecolor": "white",
           "zerolinewidth": 2
          },
          "yaxis": {
           "automargin": true,
           "gridcolor": "white",
           "linecolor": "white",
           "ticks": "",
           "title": {
            "standoff": 15
           },
           "zerolinecolor": "white",
           "zerolinewidth": 2
          }
         }
        },
        "title": {
         "text": "Asteroid Close Approaches to Earth"
        },
        "xaxis": {
         "range": [
          "1980-01-01T00:00:00",
          "2030-01-01T00:00:00"
         ],
         "showgrid": false,
         "tickformat": "%Y",
         "title": {
          "text": "Time"
         }
        },
        "yaxis": {
         "showgrid": false,
         "title": {
          "text": "Distance from Earth (AU)"
         }
        }
       }
      }
     },
     "metadata": {},
     "output_type": "display_data"
    }
   ],
   "source": [
    "import plotly.graph_objects as go\n",
    "import datetime\n",
    "\n",
    "# Sample data: asteroid positions and times\n",
    "asteroid_distances = dist  # Sample distances (replace with actual data)\n",
    "asteroid_times = time_cd\n",
    "\n",
    "# Create the plot\n",
    "fig = go.Figure()\n",
    "\n",
    "# Plot asteroids\n",
    "fig.add_trace(go.Scatter(x=asteroid_times, y=asteroid_distances, mode='markers',\n",
    "                         marker=dict(color='lightblue', size=3), name='Asteroids'))\n",
    "\n",
    "# Plot Earth\n",
    "fig.add_trace(go.Scatter(x=[datetime.datetime.now()], y=[0], mode='markers',\n",
    "                         marker=dict(color='red', size=12), name='Earth'))\n",
    "\n",
    "# vertical line at present\n",
    "fig.add_trace(go.Scatter(x=[datetime.datetime.now(), datetime.datetime.now()], y=[0, max(asteroid_distances)],\n",
    "                         mode='lines', line=dict(color='white', width=1, dash='dot'), name='Present'))\n",
    "\n",
    "# layout\n",
    "fig.update_layout(\n",
    "    title='Asteroid Close Approaches to Earth',\n",
    "    xaxis=dict(title='Time', tickformat='%Y', range=[datetime.datetime(1980, 1, 1), datetime.datetime(2030, 1, 1)],\n",
    "                                                          showgrid=False),\n",
    "    yaxis=dict(title='Distance from Earth (AU)', showgrid=False),\n",
    "    plot_bgcolor='black',\n",
    "    paper_bgcolor='black',\n",
    "    font=dict(color='white'),\n",
    "        images=[dict(\n",
    "        source=\"https://cdn-icons-png.freepik.com/512/4195/4195181.png\",\n",
    "        x=datetime.datetime.now(),  # Adjust the x position as needed\n",
    "        y=0,  # Adjust the y position as needed\n",
    "        xref=\"x\",\n",
    "        yref=\"y\",\n",
    "        sizex=1,  # Adjust the size of the image as needed\n",
    "        sizey=1,\n",
    "        sizing=\"stretch\",\n",
    "        opacity=0.8,\n",
    "        layer=\"above\"\n",
    "    )]\n",
    ")\n",
    "\n",
    "# Show the plot\n",
    "fig.show()\n"
   ]
  },
  {
   "cell_type": "code",
   "execution_count": 25,
   "metadata": {},
   "outputs": [],
   "source": [
    "from urllib.parse import urlencode"
   ]
  },
  {
   "cell_type": "code",
   "execution_count": 26,
   "metadata": {},
   "outputs": [
    {
     "data": {
      "text/plain": [
       "'https://ssd-api.jpl.nasa.gov/cad.api?date-min=1980-01-01&date-max=2030-01-01'"
      ]
     },
     "execution_count": 26,
     "metadata": {},
     "output_type": "execute_result"
    }
   ],
   "source": [
    "params = {#'dist-max': '1',\n",
    "        #   'h-max': '20',\n",
    "          'date-min': '1980-01-01',\n",
    "          'date-max': '2030-01-01'}\n",
    "url + '?' + urlencode(params)"
   ]
  }
 ],
 "metadata": {
  "kernelspec": {
   "display_name": "base",
   "language": "python",
   "name": "python3"
  },
  "language_info": {
   "codemirror_mode": {
    "name": "ipython",
    "version": 3
   },
   "file_extension": ".py",
   "mimetype": "text/x-python",
   "name": "python",
   "nbconvert_exporter": "python",
   "pygments_lexer": "ipython3",
   "version": "3.11.5"
  }
 },
 "nbformat": 4,
 "nbformat_minor": 2
}
